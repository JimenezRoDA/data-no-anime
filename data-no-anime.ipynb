{
 "cells": [
  {
   "cell_type": "markdown",
   "id": "ac697401",
   "metadata": {},
   "source": [
    "# Analisis de datos sobre la evolución de anime"
   ]
  },
  {
   "cell_type": "markdown",
   "id": "e9015efd",
   "metadata": {},
   "source": [
    "##### En el archivo data-no-mining hemos conseguido, a partir de una API y un DataFrame de Kaggle, un DataFrame con toda la informacion que necesito.\n",
    "##### Voy a empezar con la limpieza de ese y otro data frame del 2019.\n",
    "##### Mas tarde voy a comenzar con los insights comparando un DataFrame con otro."
   ]
  },
  {
   "cell_type": "code",
   "execution_count": 2242,
   "id": "1ed5d1be",
   "metadata": {},
   "outputs": [],
   "source": [
    "import pandas as pd\n",
    "import ast\n",
    "import numpy as np\n",
    "\n",
    "df_2024 = pd.read_csv('anime_data.csv')\n",
    "df_2019 = pd.read_csv('Anime.csv')"
   ]
  },
  {
   "cell_type": "markdown",
   "id": "62f5bad0",
   "metadata": {},
   "source": [
    "### Primero voy a compararlas para ver si los id estan bien."
   ]
  },
  {
   "cell_type": "code",
   "execution_count": 2243,
   "id": "e39ea0e0",
   "metadata": {},
   "outputs": [
    {
     "name": "stdout",
     "output_type": "stream",
     "text": [
      "   mal_id              titles  coincide_nombre\n",
      "0    1550         Attack No.1             True\n",
      "1    2406           Sazae-san             True\n",
      "2    9895        The Bathroom             True\n",
      "3    9163  Attack No.1 (1970)             True\n",
      "4    7259          Kenju Giga             True\n"
     ]
    }
   ],
   "source": [
    "resultados_comparacion = []\n",
    "\n",
    "\n",
    "for index, row in df_2024.iterrows():\n",
    "    id_actual = row['mal_id'] \n",
    "    nombre_actual = row['titles']  \n",
    "    \n",
    "    df_2019_row = df_2019[df_2019['animeID'] == id_actual]\n",
    "    \n",
    "    if not df_2019_row.empty:  \n",
    "        nombre_2019 = df_2019_row[' name'].iloc[0]  \n",
    "        \n",
    "        \n",
    "        if nombre_actual == nombre_2019:\n",
    "            resultados_comparacion.append(True)\n",
    "        else:\n",
    "            resultados_comparacion.append(False)\n",
    "    else:\n",
    "        resultados_comparacion.append(False) \n",
    "\n",
    "\n",
    "df_2024['coincide_nombre'] = resultados_comparacion\n",
    "\n",
    "\n",
    "print(df_2024[['mal_id', 'titles', 'coincide_nombre']].head())"
   ]
  },
  {
   "cell_type": "code",
   "execution_count": 2244,
   "id": "c110f058",
   "metadata": {},
   "outputs": [
    {
     "name": "stdout",
     "output_type": "stream",
     "text": [
      "Número de coincidencias True: 3921\n"
     ]
    }
   ],
   "source": [
    "total_true = df_2024['coincide_nombre'].sum()\n",
    "print(f'Número de coincidencias True: {total_true}')"
   ]
  },
  {
   "cell_type": "markdown",
   "id": "47c81b65",
   "metadata": {},
   "source": [
    "##### Entonces podemos usar los dos DF ya que los id coinciden, hay muchos que no coinciden por que a lo mejor no salieron esos animes en 2019."
   ]
  },
  {
   "cell_type": "markdown",
   "id": "5af1bb3a",
   "metadata": {},
   "source": [
    "### Inspección y Limpieza 2024"
   ]
  },
  {
   "cell_type": "code",
   "execution_count": 2245,
   "id": "6d1c578b",
   "metadata": {},
   "outputs": [
    {
     "data": {
      "text/html": [
       "<div>\n",
       "<style scoped>\n",
       "    .dataframe tbody tr th:only-of-type {\n",
       "        vertical-align: middle;\n",
       "    }\n",
       "\n",
       "    .dataframe tbody tr th {\n",
       "        vertical-align: top;\n",
       "    }\n",
       "\n",
       "    .dataframe thead th {\n",
       "        text-align: right;\n",
       "    }\n",
       "</style>\n",
       "<table border=\"1\" class=\"dataframe\">\n",
       "  <thead>\n",
       "    <tr style=\"text-align: right;\">\n",
       "      <th></th>\n",
       "      <th>mal_id</th>\n",
       "      <th>titles</th>\n",
       "      <th>type</th>\n",
       "      <th>genre_1</th>\n",
       "      <th>genre_2</th>\n",
       "      <th>source</th>\n",
       "      <th>studios</th>\n",
       "      <th>episodes</th>\n",
       "      <th>rating</th>\n",
       "      <th>score</th>\n",
       "      <th>...</th>\n",
       "      <th>rank</th>\n",
       "      <th>members</th>\n",
       "      <th>favorites</th>\n",
       "      <th>synopsis</th>\n",
       "      <th>airing</th>\n",
       "      <th>genres</th>\n",
       "      <th>year</th>\n",
       "      <th>season</th>\n",
       "      <th>status</th>\n",
       "      <th>coincide_nombre</th>\n",
       "    </tr>\n",
       "  </thead>\n",
       "  <tbody>\n",
       "    <tr>\n",
       "      <th>0</th>\n",
       "      <td>1550</td>\n",
       "      <td>Attack No.1</td>\n",
       "      <td>TV</td>\n",
       "      <td>Drama</td>\n",
       "      <td>Sports</td>\n",
       "      <td>Manga</td>\n",
       "      <td>Tokyo Movie Shinsha</td>\n",
       "      <td>104.0</td>\n",
       "      <td>PG-13 - Teens 13 or older</td>\n",
       "      <td>7.07</td>\n",
       "      <td>...</td>\n",
       "      <td>4124.0</td>\n",
       "      <td>9979</td>\n",
       "      <td>72</td>\n",
       "      <td>Kozue is a middleschool girl and enthusiastic ...</td>\n",
       "      <td>False</td>\n",
       "      <td>[{'mal_id': 8, 'type': 'anime', 'name': 'Drama...</td>\n",
       "      <td>1970.0</td>\n",
       "      <td>winter</td>\n",
       "      <td>Finished Airing</td>\n",
       "      <td>True</td>\n",
       "    </tr>\n",
       "    <tr>\n",
       "      <th>1</th>\n",
       "      <td>2406</td>\n",
       "      <td>Sazae-san</td>\n",
       "      <td>TV</td>\n",
       "      <td>Comedy</td>\n",
       "      <td>Slice of Life</td>\n",
       "      <td>4-koma manga</td>\n",
       "      <td>Eiken</td>\n",
       "      <td>NaN</td>\n",
       "      <td>G - All Ages</td>\n",
       "      <td>6.14</td>\n",
       "      <td>...</td>\n",
       "      <td>9126.0</td>\n",
       "      <td>8403</td>\n",
       "      <td>38</td>\n",
       "      <td>The main character is a mother named Sazae-san...</td>\n",
       "      <td>True</td>\n",
       "      <td>[{'mal_id': 4, 'type': 'anime', 'name': 'Comed...</td>\n",
       "      <td>1969.0</td>\n",
       "      <td>fall</td>\n",
       "      <td>Currently Airing</td>\n",
       "      <td>True</td>\n",
       "    </tr>\n",
       "    <tr>\n",
       "      <th>2</th>\n",
       "      <td>9895</td>\n",
       "      <td>The Bathroom</td>\n",
       "      <td>Movie</td>\n",
       "      <td>Avant Garde</td>\n",
       "      <td>Comedy</td>\n",
       "      <td>Original</td>\n",
       "      <td>Kuri Jikken Manga Koubou</td>\n",
       "      <td>1.0</td>\n",
       "      <td>R - 17+ (violence &amp; profanity)</td>\n",
       "      <td>4.22</td>\n",
       "      <td>...</td>\n",
       "      <td>13223.0</td>\n",
       "      <td>1779</td>\n",
       "      <td>0</td>\n",
       "      <td>A surrealistic short from minimalist cartoonis...</td>\n",
       "      <td>NaN</td>\n",
       "      <td>NaN</td>\n",
       "      <td>NaN</td>\n",
       "      <td>NaN</td>\n",
       "      <td>NaN</td>\n",
       "      <td>True</td>\n",
       "    </tr>\n",
       "    <tr>\n",
       "      <th>3</th>\n",
       "      <td>9163</td>\n",
       "      <td>Attack No.1 (1970)</td>\n",
       "      <td>Movie</td>\n",
       "      <td>Drama</td>\n",
       "      <td>Sports</td>\n",
       "      <td>Unknown</td>\n",
       "      <td>NaN</td>\n",
       "      <td>1.0</td>\n",
       "      <td>PG-13 - Teens 13 or older</td>\n",
       "      <td>6.39</td>\n",
       "      <td>...</td>\n",
       "      <td>7795.0</td>\n",
       "      <td>1410</td>\n",
       "      <td>3</td>\n",
       "      <td>The first recap film of Attack No.1 , it cover...</td>\n",
       "      <td>NaN</td>\n",
       "      <td>NaN</td>\n",
       "      <td>NaN</td>\n",
       "      <td>NaN</td>\n",
       "      <td>NaN</td>\n",
       "      <td>True</td>\n",
       "    </tr>\n",
       "    <tr>\n",
       "      <th>4</th>\n",
       "      <td>7259</td>\n",
       "      <td>Kenju Giga</td>\n",
       "      <td>Movie</td>\n",
       "      <td>NaN</td>\n",
       "      <td>NaN</td>\n",
       "      <td>Original</td>\n",
       "      <td>NaN</td>\n",
       "      <td>1.0</td>\n",
       "      <td>PG-13 - Teens 13 or older</td>\n",
       "      <td>4.92</td>\n",
       "      <td>...</td>\n",
       "      <td>12800.0</td>\n",
       "      <td>1206</td>\n",
       "      <td>0</td>\n",
       "      <td>A dog race is interrupted by a ringmaster, who...</td>\n",
       "      <td>False</td>\n",
       "      <td>[]</td>\n",
       "      <td>NaN</td>\n",
       "      <td>NaN</td>\n",
       "      <td>Finished Airing</td>\n",
       "      <td>True</td>\n",
       "    </tr>\n",
       "  </tbody>\n",
       "</table>\n",
       "<p>5 rows × 22 columns</p>\n",
       "</div>"
      ],
      "text/plain": [
       "   mal_id              titles   type      genre_1        genre_2  \\\n",
       "0    1550         Attack No.1     TV        Drama         Sports   \n",
       "1    2406           Sazae-san     TV       Comedy  Slice of Life   \n",
       "2    9895        The Bathroom  Movie  Avant Garde         Comedy   \n",
       "3    9163  Attack No.1 (1970)  Movie        Drama         Sports   \n",
       "4    7259          Kenju Giga  Movie          NaN            NaN   \n",
       "\n",
       "         source                   studios  episodes  \\\n",
       "0         Manga       Tokyo Movie Shinsha     104.0   \n",
       "1  4-koma manga                     Eiken       NaN   \n",
       "2      Original  Kuri Jikken Manga Koubou       1.0   \n",
       "3       Unknown                       NaN       1.0   \n",
       "4      Original                       NaN       1.0   \n",
       "\n",
       "                           rating  score  ...     rank  members  favorites  \\\n",
       "0       PG-13 - Teens 13 or older   7.07  ...   4124.0     9979         72   \n",
       "1                    G - All Ages   6.14  ...   9126.0     8403         38   \n",
       "2  R - 17+ (violence & profanity)   4.22  ...  13223.0     1779          0   \n",
       "3       PG-13 - Teens 13 or older   6.39  ...   7795.0     1410          3   \n",
       "4       PG-13 - Teens 13 or older   4.92  ...  12800.0     1206          0   \n",
       "\n",
       "                                            synopsis  airing  \\\n",
       "0  Kozue is a middleschool girl and enthusiastic ...   False   \n",
       "1  The main character is a mother named Sazae-san...    True   \n",
       "2  A surrealistic short from minimalist cartoonis...     NaN   \n",
       "3  The first recap film of Attack No.1 , it cover...     NaN   \n",
       "4  A dog race is interrupted by a ringmaster, who...   False   \n",
       "\n",
       "                                              genres    year  season  \\\n",
       "0  [{'mal_id': 8, 'type': 'anime', 'name': 'Drama...  1970.0  winter   \n",
       "1  [{'mal_id': 4, 'type': 'anime', 'name': 'Comed...  1969.0    fall   \n",
       "2                                                NaN     NaN     NaN   \n",
       "3                                                NaN     NaN     NaN   \n",
       "4                                                 []     NaN     NaN   \n",
       "\n",
       "             status coincide_nombre  \n",
       "0   Finished Airing            True  \n",
       "1  Currently Airing            True  \n",
       "2               NaN            True  \n",
       "3               NaN            True  \n",
       "4   Finished Airing            True  \n",
       "\n",
       "[5 rows x 22 columns]"
      ]
     },
     "execution_count": 2245,
     "metadata": {},
     "output_type": "execute_result"
    }
   ],
   "source": [
    "df_2024.head()"
   ]
  },
  {
   "cell_type": "code",
   "execution_count": 2246,
   "id": "e3ff7e52",
   "metadata": {},
   "outputs": [
    {
     "data": {
      "text/plain": [
       "512"
      ]
     },
     "execution_count": 2246,
     "metadata": {},
     "output_type": "execute_result"
    }
   ],
   "source": [
    "df_2024['studios'].isnull().sum()"
   ]
  },
  {
   "cell_type": "code",
   "execution_count": 2247,
   "id": "638d4529",
   "metadata": {},
   "outputs": [
    {
     "data": {
      "text/plain": [
       "Index(['mal_id', 'titles', 'type', 'genre_1', 'genre_2', 'source', 'studios',\n",
       "       'episodes', 'rating', 'score', 'audicence_rank', 'scored_by', 'rank',\n",
       "       'members', 'favorites', 'synopsis', 'airing', 'genres', 'year',\n",
       "       'season', 'status', 'coincide_nombre'],\n",
       "      dtype='object')"
      ]
     },
     "execution_count": 2247,
     "metadata": {},
     "output_type": "execute_result"
    }
   ],
   "source": [
    "df_2024.columns\n",
    "#La columnas ya estan limpias porque las limpié en el anterior para poder hacer bien la busqueda de información y el merge."
   ]
  },
  {
   "cell_type": "code",
   "execution_count": 2248,
   "id": "a0b7800b",
   "metadata": {},
   "outputs": [],
   "source": [
    "df_2024 = df_2024.drop(['members','favorites'],axis=1)"
   ]
  },
  {
   "cell_type": "code",
   "execution_count": 2249,
   "id": "548bf6ab",
   "metadata": {},
   "outputs": [
    {
     "data": {
      "text/plain": [
       "(5057, 20)"
      ]
     },
     "execution_count": 2249,
     "metadata": {},
     "output_type": "execute_result"
    }
   ],
   "source": [
    "df_2024.shape"
   ]
  },
  {
   "cell_type": "code",
   "execution_count": 2250,
   "id": "cb75e865",
   "metadata": {},
   "outputs": [
    {
     "name": "stdout",
     "output_type": "stream",
     "text": [
      "<class 'pandas.core.frame.DataFrame'>\n",
      "RangeIndex: 5057 entries, 0 to 5056\n",
      "Data columns (total 20 columns):\n",
      " #   Column           Non-Null Count  Dtype  \n",
      "---  ------           --------------  -----  \n",
      " 0   mal_id           5057 non-null   int64  \n",
      " 1   titles           5057 non-null   object \n",
      " 2   type             5056 non-null   object \n",
      " 3   genre_1          4812 non-null   object \n",
      " 4   genre_2          3950 non-null   object \n",
      " 5   source           5057 non-null   object \n",
      " 6   studios          4545 non-null   object \n",
      " 7   episodes         4540 non-null   float64\n",
      " 8   rating           5023 non-null   object \n",
      " 9   score            4818 non-null   float64\n",
      " 10  audicence_rank   5057 non-null   int64  \n",
      " 11  scored_by        4818 non-null   float64\n",
      " 12  rank             4787 non-null   float64\n",
      " 13  synopsis         5010 non-null   object \n",
      " 14  airing           3122 non-null   object \n",
      " 15  genres           3122 non-null   object \n",
      " 16  year             3401 non-null   float64\n",
      " 17  season           1727 non-null   object \n",
      " 18  status           3122 non-null   object \n",
      " 19  coincide_nombre  5057 non-null   bool   \n",
      "dtypes: bool(1), float64(5), int64(2), object(12)\n",
      "memory usage: 755.7+ KB\n"
     ]
    }
   ],
   "source": [
    "df_2024.info()"
   ]
  },
  {
   "cell_type": "code",
   "execution_count": 2251,
   "id": "1397fc08",
   "metadata": {},
   "outputs": [
    {
     "data": {
      "text/html": [
       "<div>\n",
       "<style scoped>\n",
       "    .dataframe tbody tr th:only-of-type {\n",
       "        vertical-align: middle;\n",
       "    }\n",
       "\n",
       "    .dataframe tbody tr th {\n",
       "        vertical-align: top;\n",
       "    }\n",
       "\n",
       "    .dataframe thead th {\n",
       "        text-align: right;\n",
       "    }\n",
       "</style>\n",
       "<table border=\"1\" class=\"dataframe\">\n",
       "  <thead>\n",
       "    <tr style=\"text-align: right;\">\n",
       "      <th></th>\n",
       "      <th>count</th>\n",
       "      <th>mean</th>\n",
       "      <th>std</th>\n",
       "      <th>min</th>\n",
       "      <th>25%</th>\n",
       "      <th>50%</th>\n",
       "      <th>75%</th>\n",
       "      <th>max</th>\n",
       "    </tr>\n",
       "  </thead>\n",
       "  <tbody>\n",
       "    <tr>\n",
       "      <th>mal_id</th>\n",
       "      <td>5057.0</td>\n",
       "      <td>13433.425351</td>\n",
       "      <td>16424.620045</td>\n",
       "      <td>1.0</td>\n",
       "      <td>1426.00</td>\n",
       "      <td>4521.00</td>\n",
       "      <td>23347.00</td>\n",
       "      <td>58391.00</td>\n",
       "    </tr>\n",
       "    <tr>\n",
       "      <th>episodes</th>\n",
       "      <td>4540.0</td>\n",
       "      <td>18.505507</td>\n",
       "      <td>62.323441</td>\n",
       "      <td>1.0</td>\n",
       "      <td>1.00</td>\n",
       "      <td>12.00</td>\n",
       "      <td>23.00</td>\n",
       "      <td>1787.00</td>\n",
       "    </tr>\n",
       "    <tr>\n",
       "      <th>score</th>\n",
       "      <td>4818.0</td>\n",
       "      <td>7.029504</td>\n",
       "      <td>0.931694</td>\n",
       "      <td>2.0</td>\n",
       "      <td>6.46</td>\n",
       "      <td>7.11</td>\n",
       "      <td>7.67</td>\n",
       "      <td>9.38</td>\n",
       "    </tr>\n",
       "    <tr>\n",
       "      <th>audicence_rank</th>\n",
       "      <td>5057.0</td>\n",
       "      <td>5828.447301</td>\n",
       "      <td>5668.328712</td>\n",
       "      <td>1.0</td>\n",
       "      <td>1050.00</td>\n",
       "      <td>3846.00</td>\n",
       "      <td>9501.00</td>\n",
       "      <td>26508.00</td>\n",
       "    </tr>\n",
       "    <tr>\n",
       "      <th>scored_by</th>\n",
       "      <td>4818.0</td>\n",
       "      <td>122898.908053</td>\n",
       "      <td>274892.283190</td>\n",
       "      <td>105.0</td>\n",
       "      <td>1723.25</td>\n",
       "      <td>17952.00</td>\n",
       "      <td>118254.50</td>\n",
       "      <td>2795232.00</td>\n",
       "    </tr>\n",
       "    <tr>\n",
       "      <th>rank</th>\n",
       "      <td>4787.0</td>\n",
       "      <td>4862.502402</td>\n",
       "      <td>4240.225219</td>\n",
       "      <td>1.0</td>\n",
       "      <td>1321.00</td>\n",
       "      <td>3880.00</td>\n",
       "      <td>7453.00</td>\n",
       "      <td>20609.00</td>\n",
       "    </tr>\n",
       "    <tr>\n",
       "      <th>year</th>\n",
       "      <td>3401.0</td>\n",
       "      <td>2001.742135</td>\n",
       "      <td>14.290791</td>\n",
       "      <td>1969.0</td>\n",
       "      <td>1993.00</td>\n",
       "      <td>2003.00</td>\n",
       "      <td>2013.00</td>\n",
       "      <td>2024.00</td>\n",
       "    </tr>\n",
       "  </tbody>\n",
       "</table>\n",
       "</div>"
      ],
      "text/plain": [
       "                 count           mean            std     min      25%  \\\n",
       "mal_id          5057.0   13433.425351   16424.620045     1.0  1426.00   \n",
       "episodes        4540.0      18.505507      62.323441     1.0     1.00   \n",
       "score           4818.0       7.029504       0.931694     2.0     6.46   \n",
       "audicence_rank  5057.0    5828.447301    5668.328712     1.0  1050.00   \n",
       "scored_by       4818.0  122898.908053  274892.283190   105.0  1723.25   \n",
       "rank            4787.0    4862.502402    4240.225219     1.0  1321.00   \n",
       "year            3401.0    2001.742135      14.290791  1969.0  1993.00   \n",
       "\n",
       "                     50%        75%         max  \n",
       "mal_id           4521.00   23347.00    58391.00  \n",
       "episodes           12.00      23.00     1787.00  \n",
       "score               7.11       7.67        9.38  \n",
       "audicence_rank   3846.00    9501.00    26508.00  \n",
       "scored_by       17952.00  118254.50  2795232.00  \n",
       "rank             3880.00    7453.00    20609.00  \n",
       "year             2003.00    2013.00     2024.00  "
      ]
     },
     "execution_count": 2251,
     "metadata": {},
     "output_type": "execute_result"
    }
   ],
   "source": [
    "df_2024.describe().T"
   ]
  },
  {
   "cell_type": "code",
   "execution_count": 2252,
   "id": "51dc0630",
   "metadata": {},
   "outputs": [
    {
     "data": {
      "text/html": [
       "<div>\n",
       "<style scoped>\n",
       "    .dataframe tbody tr th:only-of-type {\n",
       "        vertical-align: middle;\n",
       "    }\n",
       "\n",
       "    .dataframe tbody tr th {\n",
       "        vertical-align: top;\n",
       "    }\n",
       "\n",
       "    .dataframe thead th {\n",
       "        text-align: right;\n",
       "    }\n",
       "</style>\n",
       "<table border=\"1\" class=\"dataframe\">\n",
       "  <thead>\n",
       "    <tr style=\"text-align: right;\">\n",
       "      <th></th>\n",
       "      <th>count</th>\n",
       "      <th>unique</th>\n",
       "      <th>top</th>\n",
       "      <th>freq</th>\n",
       "    </tr>\n",
       "  </thead>\n",
       "  <tbody>\n",
       "    <tr>\n",
       "      <th>titles</th>\n",
       "      <td>5057</td>\n",
       "      <td>4516</td>\n",
       "      <td>Sazae-san</td>\n",
       "      <td>126</td>\n",
       "    </tr>\n",
       "    <tr>\n",
       "      <th>type</th>\n",
       "      <td>5056</td>\n",
       "      <td>8</td>\n",
       "      <td>TV</td>\n",
       "      <td>2861</td>\n",
       "    </tr>\n",
       "    <tr>\n",
       "      <th>genre_1</th>\n",
       "      <td>4812</td>\n",
       "      <td>21</td>\n",
       "      <td>Action</td>\n",
       "      <td>1814</td>\n",
       "    </tr>\n",
       "    <tr>\n",
       "      <th>genre_2</th>\n",
       "      <td>3950</td>\n",
       "      <td>20</td>\n",
       "      <td>Adventure</td>\n",
       "      <td>769</td>\n",
       "    </tr>\n",
       "    <tr>\n",
       "      <th>source</th>\n",
       "      <td>5057</td>\n",
       "      <td>17</td>\n",
       "      <td>Manga</td>\n",
       "      <td>2147</td>\n",
       "    </tr>\n",
       "    <tr>\n",
       "      <th>studios</th>\n",
       "      <td>4545</td>\n",
       "      <td>338</td>\n",
       "      <td>Toei Animation</td>\n",
       "      <td>487</td>\n",
       "    </tr>\n",
       "    <tr>\n",
       "      <th>rating</th>\n",
       "      <td>5023</td>\n",
       "      <td>6</td>\n",
       "      <td>PG-13 - Teens 13 or older</td>\n",
       "      <td>2445</td>\n",
       "    </tr>\n",
       "    <tr>\n",
       "      <th>synopsis</th>\n",
       "      <td>5010</td>\n",
       "      <td>4442</td>\n",
       "      <td>The main character is a mother named Sazae-san...</td>\n",
       "      <td>126</td>\n",
       "    </tr>\n",
       "    <tr>\n",
       "      <th>airing</th>\n",
       "      <td>3122</td>\n",
       "      <td>2</td>\n",
       "      <td>False</td>\n",
       "      <td>2617</td>\n",
       "    </tr>\n",
       "    <tr>\n",
       "      <th>genres</th>\n",
       "      <td>3122</td>\n",
       "      <td>500</td>\n",
       "      <td>[{'mal_id': 1, 'type': 'anime', 'name': 'Actio...</td>\n",
       "      <td>155</td>\n",
       "    </tr>\n",
       "    <tr>\n",
       "      <th>season</th>\n",
       "      <td>1727</td>\n",
       "      <td>4</td>\n",
       "      <td>fall</td>\n",
       "      <td>665</td>\n",
       "    </tr>\n",
       "    <tr>\n",
       "      <th>status</th>\n",
       "      <td>3122</td>\n",
       "      <td>2</td>\n",
       "      <td>Finished Airing</td>\n",
       "      <td>2617</td>\n",
       "    </tr>\n",
       "  </tbody>\n",
       "</table>\n",
       "</div>"
      ],
      "text/plain": [
       "         count unique                                                top  freq\n",
       "titles    5057   4516                                          Sazae-san   126\n",
       "type      5056      8                                                 TV  2861\n",
       "genre_1   4812     21                                             Action  1814\n",
       "genre_2   3950     20                                          Adventure   769\n",
       "source    5057     17                                              Manga  2147\n",
       "studios   4545    338                                     Toei Animation   487\n",
       "rating    5023      6                          PG-13 - Teens 13 or older  2445\n",
       "synopsis  5010   4442  The main character is a mother named Sazae-san...   126\n",
       "airing    3122      2                                              False  2617\n",
       "genres    3122    500  [{'mal_id': 1, 'type': 'anime', 'name': 'Actio...   155\n",
       "season    1727      4                                               fall   665\n",
       "status    3122      2                                    Finished Airing  2617"
      ]
     },
     "execution_count": 2252,
     "metadata": {},
     "output_type": "execute_result"
    }
   ],
   "source": [
    "df_2024.describe(include='object').T"
   ]
  },
  {
   "cell_type": "code",
   "execution_count": 2253,
   "id": "ef383a91",
   "metadata": {},
   "outputs": [
    {
     "data": {
      "text/plain": [
       "mal_id               int64\n",
       "titles              object\n",
       "type                object\n",
       "genre_1             object\n",
       "genre_2             object\n",
       "source              object\n",
       "studios             object\n",
       "episodes           float64\n",
       "rating              object\n",
       "score              float64\n",
       "audicence_rank       int64\n",
       "scored_by          float64\n",
       "rank               float64\n",
       "synopsis            object\n",
       "airing              object\n",
       "genres              object\n",
       "year               float64\n",
       "season              object\n",
       "status              object\n",
       "coincide_nombre       bool\n",
       "dtype: object"
      ]
     },
     "execution_count": 2253,
     "metadata": {},
     "output_type": "execute_result"
    }
   ],
   "source": [
    "df_2024.dtypes"
   ]
  },
  {
   "cell_type": "code",
   "execution_count": 2254,
   "id": "1d497a19",
   "metadata": {},
   "outputs": [
    {
     "data": {
      "text/plain": [
       "mal_id             4516\n",
       "titles             4516\n",
       "type                  8\n",
       "genre_1              21\n",
       "genre_2              20\n",
       "source               17\n",
       "studios             338\n",
       "episodes            160\n",
       "rating                6\n",
       "score               472\n",
       "audicence_rank     4358\n",
       "scored_by          3822\n",
       "rank               3844\n",
       "synopsis           4442\n",
       "airing                2\n",
       "genres              500\n",
       "year                 56\n",
       "season                4\n",
       "status                2\n",
       "coincide_nombre       2\n",
       "dtype: int64"
      ]
     },
     "execution_count": 2254,
     "metadata": {},
     "output_type": "execute_result"
    }
   ],
   "source": [
    "df_2024.nunique()"
   ]
  },
  {
   "cell_type": "code",
   "execution_count": 2255,
   "id": "cda175e7",
   "metadata": {},
   "outputs": [
    {
     "data": {
      "text/plain": [
       "541"
      ]
     },
     "execution_count": 2255,
     "metadata": {},
     "output_type": "execute_result"
    }
   ],
   "source": [
    "#mal_id pone que hay 4516 unicos, significa que hay animes repetidos.\n",
    "df_2024.duplicated().sum()"
   ]
  },
  {
   "cell_type": "code",
   "execution_count": 2256,
   "id": "9451b181",
   "metadata": {},
   "outputs": [],
   "source": [
    "df_2024 = df_2024.drop_duplicates(keep='first')"
   ]
  },
  {
   "cell_type": "code",
   "execution_count": 2257,
   "id": "f1029755",
   "metadata": {},
   "outputs": [
    {
     "data": {
      "text/plain": [
       "array(['Manga', '4-koma manga', 'Original', 'Unknown', 'Novel',\n",
       "       'Picture book', 'Music', 'Other', 'Book', 'Radio', 'Light novel',\n",
       "       'Game', 'Mixed media', 'Visual novel', 'Card game', 'Web manga',\n",
       "       'Web novel'], dtype=object)"
      ]
     },
     "execution_count": 2257,
     "metadata": {},
     "output_type": "execute_result"
    }
   ],
   "source": [
    "df_2024['source'].unique()"
   ]
  },
  {
   "cell_type": "code",
   "execution_count": 2258,
   "id": "9963c576",
   "metadata": {},
   "outputs": [
    {
     "data": {
      "text/plain": [
       "array(['Manga', 'Original', 'Unknown', 'Novel', 'Picture book', 'Music',\n",
       "       'Other', 'Book', 'Radio', 'Light novel', 'Game', 'Mixed media',\n",
       "       'Visual novel', 'Card game'], dtype=object)"
      ]
     },
     "execution_count": 2258,
     "metadata": {},
     "output_type": "execute_result"
    }
   ],
   "source": [
    "sustitucion = {\n",
    "    '4-koma manga':'Manga',\n",
    "    'Web manga':'Manga',\n",
    "    'Web novel':'Novel',\n",
    "    }\n",
    "df_2024['source'] = df_2024['source'].replace(sustitucion)\n",
    "df_2024['source'].unique()"
   ]
  },
  {
   "cell_type": "code",
   "execution_count": 2259,
   "id": "4fc64aa4",
   "metadata": {},
   "outputs": [
    {
     "data": {
      "text/plain": [
       "array([False, True, nan], dtype=object)"
      ]
     },
     "execution_count": 2259,
     "metadata": {},
     "output_type": "execute_result"
    }
   ],
   "source": [
    "#Es lo mismo que status\n",
    "df_2024['airing'].unique()"
   ]
  },
  {
   "cell_type": "code",
   "execution_count": 2260,
   "id": "66920675",
   "metadata": {},
   "outputs": [],
   "source": [
    "df_2024 = df_2024.drop('airing',axis=1)"
   ]
  },
  {
   "cell_type": "code",
   "execution_count": 2261,
   "id": "33e7a135",
   "metadata": {},
   "outputs": [
    {
     "data": {
      "text/plain": [
       "array(['Teens or older', 'All Ages', '17+', 'Children', 'Mild Nudity',\n",
       "       nan, '+18'], dtype=object)"
      ]
     },
     "execution_count": 2261,
     "metadata": {},
     "output_type": "execute_result"
    }
   ],
   "source": [
    "sustitucion1 = {\n",
    "    'PG-13 - Teens 13 or older':'Teens or older',\n",
    "    'G - All Ages':'All Ages',\n",
    "    'R - 17+ (violence & profanity)':'17+',\n",
    "    'PG - Children':'Children',\n",
    "    'R+ - Mild Nudity':'Mild Nudity',\n",
    "    'Rx - Hentai':'+18'\n",
    "    }\n",
    "df_2024['rating'] = df_2024['rating'].replace(sustitucion1)\n",
    "df_2024['rating'].unique()"
   ]
  },
  {
   "cell_type": "code",
   "execution_count": 2262,
   "id": "4c484e20",
   "metadata": {},
   "outputs": [
    {
     "data": {
      "text/plain": [
       "73"
      ]
     },
     "execution_count": 2262,
     "metadata": {},
     "output_type": "execute_result"
    }
   ],
   "source": [
    "#Puede ser que sea por que son temporadas distintas de ciertos animes pero les dan la misma sinopsis, vamos a ver.\n",
    "df_2024['synopsis'].duplicated().sum()"
   ]
  },
  {
   "cell_type": "code",
   "execution_count": 2263,
   "id": "c8c0c071",
   "metadata": {},
   "outputs": [
    {
     "data": {
      "text/html": [
       "<div>\n",
       "<style scoped>\n",
       "    .dataframe tbody tr th:only-of-type {\n",
       "        vertical-align: middle;\n",
       "    }\n",
       "\n",
       "    .dataframe tbody tr th {\n",
       "        vertical-align: top;\n",
       "    }\n",
       "\n",
       "    .dataframe thead th {\n",
       "        text-align: right;\n",
       "    }\n",
       "</style>\n",
       "<table border=\"1\" class=\"dataframe\">\n",
       "  <thead>\n",
       "    <tr style=\"text-align: right;\">\n",
       "      <th></th>\n",
       "      <th>mal_id</th>\n",
       "      <th>titles</th>\n",
       "      <th>synopsis</th>\n",
       "    </tr>\n",
       "  </thead>\n",
       "  <tbody>\n",
       "    <tr>\n",
       "      <th>11</th>\n",
       "      <td>29673</td>\n",
       "      <td>Shin Tenchi Souzou</td>\n",
       "      <td>Independent animation by Tsukioka Sadao.</td>\n",
       "    </tr>\n",
       "    <tr>\n",
       "      <th>13</th>\n",
       "      <td>30327</td>\n",
       "      <td>New York Trip</td>\n",
       "      <td>Furukawa Taku film.</td>\n",
       "    </tr>\n",
       "    <tr>\n",
       "      <th>16</th>\n",
       "      <td>24927</td>\n",
       "      <td>Chuuchuu Banban</td>\n",
       "      <td>NaN</td>\n",
       "    </tr>\n",
       "    <tr>\n",
       "      <th>18</th>\n",
       "      <td>36380</td>\n",
       "      <td>Power Powan</td>\n",
       "      <td>NaN</td>\n",
       "    </tr>\n",
       "    <tr>\n",
       "      <th>68</th>\n",
       "      <td>29675</td>\n",
       "      <td>Sarasoujuu no Hana no Iro</td>\n",
       "      <td>Independent animation by Tsukioka Sadao.</td>\n",
       "    </tr>\n",
       "    <tr>\n",
       "      <th>...</th>\n",
       "      <td>...</td>\n",
       "      <td>...</td>\n",
       "      <td>...</td>\n",
       "    </tr>\n",
       "    <tr>\n",
       "      <th>1853</th>\n",
       "      <td>5584</td>\n",
       "      <td>New Dream Hunter Rem: Setsuriku no Mudenmekyu</td>\n",
       "      <td>Rem is an ordinary woman in our world but, in ...</td>\n",
       "    </tr>\n",
       "    <tr>\n",
       "      <th>1933</th>\n",
       "      <td>666</td>\n",
       "      <td>JoJo no Kimyou na Bouken</td>\n",
       "      <td>Kujo Jotaro is a normal, popular Japanese high...</td>\n",
       "    </tr>\n",
       "    <tr>\n",
       "      <th>2590</th>\n",
       "      <td>665</td>\n",
       "      <td>JoJo no Kimyou na Bouken: Adventure</td>\n",
       "      <td>Kujo Jotaro is a normal, popular Japanese high...</td>\n",
       "    </tr>\n",
       "    <tr>\n",
       "      <th>3012</th>\n",
       "      <td>241</td>\n",
       "      <td>Girls Bravo: First Season</td>\n",
       "      <td>Small for his age, Yukinari has been bullied a...</td>\n",
       "    </tr>\n",
       "    <tr>\n",
       "      <th>3065</th>\n",
       "      <td>487</td>\n",
       "      <td>Girls Bravo: Second Season</td>\n",
       "      <td>Small for his age, Yukinari has been bullied a...</td>\n",
       "    </tr>\n",
       "  </tbody>\n",
       "</table>\n",
       "<p>88 rows × 3 columns</p>\n",
       "</div>"
      ],
      "text/plain": [
       "      mal_id                                         titles  \\\n",
       "11     29673                             Shin Tenchi Souzou   \n",
       "13     30327                                  New York Trip   \n",
       "16     24927                                Chuuchuu Banban   \n",
       "18     36380                                    Power Powan   \n",
       "68     29675                      Sarasoujuu no Hana no Iro   \n",
       "...      ...                                            ...   \n",
       "1853    5584  New Dream Hunter Rem: Setsuriku no Mudenmekyu   \n",
       "1933     666                       JoJo no Kimyou na Bouken   \n",
       "2590     665            JoJo no Kimyou na Bouken: Adventure   \n",
       "3012     241                      Girls Bravo: First Season   \n",
       "3065     487                     Girls Bravo: Second Season   \n",
       "\n",
       "                                               synopsis  \n",
       "11             Independent animation by Tsukioka Sadao.  \n",
       "13                                  Furukawa Taku film.  \n",
       "16                                                  NaN  \n",
       "18                                                  NaN  \n",
       "68             Independent animation by Tsukioka Sadao.  \n",
       "...                                                 ...  \n",
       "1853  Rem is an ordinary woman in our world but, in ...  \n",
       "1933  Kujo Jotaro is a normal, popular Japanese high...  \n",
       "2590  Kujo Jotaro is a normal, popular Japanese high...  \n",
       "3012  Small for his age, Yukinari has been bullied a...  \n",
       "3065  Small for his age, Yukinari has been bullied a...  \n",
       "\n",
       "[88 rows x 3 columns]"
      ]
     },
     "execution_count": 2263,
     "metadata": {},
     "output_type": "execute_result"
    }
   ],
   "source": [
    "duplicados = df_2024[df_2024['synopsis'].duplicated(keep=False)]\n",
    "duplicados[['mal_id', 'titles', 'synopsis']].head(88)\n",
    "#Vale es lo que pensaba, es por segundas temporadas o por falta de sinopsis solo ponen el autor..."
   ]
  },
  {
   "cell_type": "code",
   "execution_count": 2264,
   "id": "38259af2",
   "metadata": {},
   "outputs": [
    {
     "data": {
      "text/plain": [
       "mal_id                0\n",
       "titles                0\n",
       "type                  1\n",
       "genre_1             245\n",
       "genre_2            1057\n",
       "source                0\n",
       "studios             512\n",
       "episodes             17\n",
       "rating               34\n",
       "score               239\n",
       "audicence_rank        0\n",
       "scored_by           239\n",
       "rank                270\n",
       "synopsis             47\n",
       "genres             1892\n",
       "year               1648\n",
       "season             3286\n",
       "status             1892\n",
       "coincide_nombre       0\n",
       "dtype: int64"
      ]
     },
     "execution_count": 2264,
     "metadata": {},
     "output_type": "execute_result"
    }
   ],
   "source": [
    "df_2024.isna().sum()"
   ]
  },
  {
   "cell_type": "code",
   "execution_count": 2265,
   "id": "0a6586d6",
   "metadata": {},
   "outputs": [],
   "source": [
    "#No me interesan las rows que no tienen score\n",
    "df_2024 = df_2024.dropna(subset=['score'])"
   ]
  },
  {
   "cell_type": "code",
   "execution_count": 2266,
   "id": "b11d7eab",
   "metadata": {},
   "outputs": [],
   "source": [
    "#Tampoco las que no tienen rank\n",
    "df_2024 = df_2024.dropna(subset=['rank'])"
   ]
  },
  {
   "cell_type": "code",
   "execution_count": 2267,
   "id": "489be7e6",
   "metadata": {},
   "outputs": [
    {
     "data": {
      "text/plain": [
       "0    1998\n",
       "1    2001\n",
       "2    1998\n",
       "3    2002\n",
       "4    2004\n",
       "Name: aired_year, dtype: object"
      ]
     },
     "execution_count": 2267,
     "metadata": {},
     "output_type": "execute_result"
    }
   ],
   "source": [
    "#Me faltan muchos en año asi que voy a utilizar los años que vienen en el otro pos si puedo rellenar algunas, el resto iran como unknown.\n",
    "df_2019['aired_year'] = df_2019[' aired'].astype(str).str.extract(r'(\\d{4})')\n",
    "df_2019['aired_year'].head()"
   ]
  },
  {
   "cell_type": "code",
   "execution_count": 2268,
   "id": "744cacb7",
   "metadata": {},
   "outputs": [],
   "source": [
    "#Había que limpiarlos primero y aqui los meto.\n",
    "id_to_year = df_2019.set_index('animeID')['aired_year']\n",
    "df_2024['year'] = df_2024['year'].fillna(df_2024['mal_id'].map(id_to_year))"
   ]
  },
  {
   "cell_type": "code",
   "execution_count": 2269,
   "id": "25ec7f13",
   "metadata": {},
   "outputs": [],
   "source": [
    "def extraer_estacion(aired_str):\n",
    "    try:\n",
    "        aired_dict = ast.literal_eval(aired_str)\n",
    "        from_date = aired_dict.get('from')\n",
    "        if from_date:\n",
    "            mes = int(from_date[5:7])\n",
    "            if mes in [12, 1, 2]:\n",
    "                return 'winter'\n",
    "            elif mes in [3, 4, 5]:\n",
    "                return 'spring'\n",
    "            elif mes in [6, 7, 8]:\n",
    "                return 'summer'\n",
    "            elif mes in [9, 10, 11]:\n",
    "                return 'fall'\n",
    "    except:\n",
    "        return np.nan\n",
    "    return np.nan\n"
   ]
  },
  {
   "cell_type": "code",
   "execution_count": 2270,
   "id": "fbbe8ce7",
   "metadata": {},
   "outputs": [],
   "source": [
    "#Voy a hacer lo mismo con estas, pero necesito la funcion para colocar el mes en distintas estaciones.\n",
    "df_2019['aired_season'] = df_2019[' aired'].apply(extraer_estacion)"
   ]
  },
  {
   "cell_type": "code",
   "execution_count": 2271,
   "id": "96864d09",
   "metadata": {},
   "outputs": [],
   "source": [
    "id_to_season = df_2019.set_index('animeID')['aired_season'].to_dict()"
   ]
  },
  {
   "cell_type": "code",
   "execution_count": 2272,
   "id": "afbd1a90",
   "metadata": {},
   "outputs": [],
   "source": [
    "df_2024['season'] = df_2024.apply(lambda row: id_to_season.get(row['mal_id']) if pd.isna(row['season']) else row['season'], axis=1)"
   ]
  },
  {
   "cell_type": "code",
   "execution_count": 2273,
   "id": "26f1e87c",
   "metadata": {},
   "outputs": [],
   "source": [
    "#Quitamos ya la synopsis, solo la necesitaba para ver si gracias a ellas conseguia identificar nulos.\n",
    "df_2024 = df_2024.drop('synopsis', axis=1)"
   ]
  },
  {
   "cell_type": "code",
   "execution_count": 2274,
   "id": "9d9456e8",
   "metadata": {},
   "outputs": [],
   "source": [
    "def extraer_nombres_generos(entrada):\n",
    "    if pd.isna(entrada) or entrada == '[]':\n",
    "        return []\n",
    "    try:\n",
    "        lista_dicts = ast.literal_eval(entrada)  # Convierte string a lista de diccionarios\n",
    "        return [d['name'] for d in lista_dicts]\n",
    "    except:\n",
    "        return []\n",
    "\n",
    "# Aplicamos la función a la columna\n",
    "df_2024['genres'] = df_2024['genres'].apply(extraer_nombres_generos)"
   ]
  },
  {
   "cell_type": "code",
   "execution_count": 2275,
   "id": "f709a288",
   "metadata": {},
   "outputs": [],
   "source": [
    "# Convertir las listas de genres en columnas separadas\n",
    "# Primero, creamos una nueva DataFrame con las listas convertidas en series.\n",
    "genres_split = df_2024['genres'].apply(lambda x: pd.Series(x) if isinstance(x, list) else pd.Series([None]*3))\n",
    "genres_split.columns = ['genres_1', 'genres_2', 'genres_3', 'genres_4', 'genres_5','genres_6','genres_7']\n",
    "\n",
    "# Concatenar las nuevas columnas al DataFrame original\n",
    "df_nuevo = pd.concat([df_2024.drop(columns=['genres']), genres_split], axis=1)"
   ]
  },
  {
   "cell_type": "code",
   "execution_count": 2276,
   "id": "dc4dc4b2",
   "metadata": {},
   "outputs": [
    {
     "name": "stdout",
     "output_type": "stream",
     "text": [
      "genres_1    0.389569\n",
      "genres_2    0.481636\n",
      "genres_3    0.658668\n",
      "genres_4    0.851616\n",
      "genres_5    0.956170\n",
      "genres_6    0.990940\n",
      "genres_7    0.998776\n",
      "dtype: float64\n"
     ]
    }
   ],
   "source": [
    "proporcion_nulos = df_nuevo[['genres_1', 'genres_2', 'genres_3', 'genres_4', 'genres_5', 'genres_6', 'genres_7']].isna().sum() / df_nuevo.shape[0]\n",
    "print(proporcion_nulos)"
   ]
  },
  {
   "cell_type": "code",
   "execution_count": 2277,
   "id": "2fbfe8ba",
   "metadata": {},
   "outputs": [],
   "source": [
    "df_nuevo = df_nuevo.drop(['genres_3', 'genres_4', 'genres_5', 'genres_6', 'genres_7'], axis=1)\n",
    "df_2024 = df_nuevo"
   ]
  },
  {
   "cell_type": "code",
   "execution_count": 2278,
   "id": "bb5e21c0",
   "metadata": {},
   "outputs": [],
   "source": [
    "# Rellenar los valores nulos de 'genres_1' con los valores de 'genre_1'\n",
    "df_2024['genres_1'] = df_2024['genres_1'].fillna(df_2024['genre_1'])\n",
    "df_2024['genres_2'] = df_2024['genres_2'].fillna(df_2024['genre_2'])"
   ]
  },
  {
   "cell_type": "code",
   "execution_count": 2279,
   "id": "dcc8044a",
   "metadata": {},
   "outputs": [],
   "source": [
    "#He solucionado los que podia solucionar con información del otro data frame, el resto unknown.\n",
    "# Para columnas de texto.\n",
    "for col in ['genres_1', 'genres_2', 'studios', 'rating', 'status', 'season', 'type']:\n",
    "    df_2024[col] = df_2024[col].fillna('Unknown')\n",
    "\n",
    "# Para columnas numéricas.\n",
    "for col in ['episodes', 'year']:\n",
    "    df_2024[col] = df_2024[col].fillna(-1)"
   ]
  },
  {
   "cell_type": "code",
   "execution_count": 2280,
   "id": "c1da6792",
   "metadata": {},
   "outputs": [],
   "source": [
    "df_2024 = df_2024.drop(['genre_1', 'genre_2'], axis=1)"
   ]
  },
  {
   "cell_type": "code",
   "execution_count": 2281,
   "id": "2303d819",
   "metadata": {},
   "outputs": [
    {
     "data": {
      "text/plain": [
       "mal_id             0\n",
       "titles             0\n",
       "type               0\n",
       "source             0\n",
       "studios            0\n",
       "episodes           0\n",
       "rating             0\n",
       "score              0\n",
       "audicence_rank     0\n",
       "scored_by          0\n",
       "rank               0\n",
       "year               0\n",
       "season             0\n",
       "status             0\n",
       "coincide_nombre    0\n",
       "genres_1           0\n",
       "genres_2           0\n",
       "dtype: int64"
      ]
     },
     "execution_count": 2281,
     "metadata": {},
     "output_type": "execute_result"
    }
   ],
   "source": [
    "df_2024.isna().sum()"
   ]
  },
  {
   "cell_type": "code",
   "execution_count": 2282,
   "id": "4c119679",
   "metadata": {},
   "outputs": [
    {
     "data": {
      "text/plain": [
       "Index(['mal_id', 'titles', 'type', 'source', 'studios', 'episodes', 'rating',\n",
       "       'score', 'audicence_rank', 'scored_by', 'rank', 'year', 'season',\n",
       "       'status', 'coincide_nombre', 'genres_1', 'genres_2'],\n",
       "      dtype='object')"
      ]
     },
     "execution_count": 2282,
     "metadata": {},
     "output_type": "execute_result"
    }
   ],
   "source": [
    "df_2024.columns"
   ]
  },
  {
   "cell_type": "code",
   "execution_count": 2283,
   "id": "d31bcc50",
   "metadata": {},
   "outputs": [
    {
     "data": {
      "text/plain": [
       "mal_id               int64\n",
       "titles              object\n",
       "type                object\n",
       "source              object\n",
       "studios             object\n",
       "episodes           float64\n",
       "rating              object\n",
       "score              float64\n",
       "audicence_rank       int64\n",
       "scored_by          float64\n",
       "rank               float64\n",
       "year                object\n",
       "season              object\n",
       "status              object\n",
       "coincide_nombre       bool\n",
       "genres_1            object\n",
       "genres_2            object\n",
       "dtype: object"
      ]
     },
     "execution_count": 2283,
     "metadata": {},
     "output_type": "execute_result"
    }
   ],
   "source": [
    "df_2024.dtypes"
   ]
  },
  {
   "cell_type": "code",
   "execution_count": 2284,
   "id": "8ef8da1f",
   "metadata": {},
   "outputs": [],
   "source": [
    "#Despues de quitar los nulos ya puedo convertir los float a int sin problema.\n",
    "cols_to_convert = ['episodes', 'audicence_rank', 'scored_by', 'rank']\n",
    "df_2024[cols_to_convert] = df_2024[cols_to_convert].astype(int)"
   ]
  },
  {
   "cell_type": "code",
   "execution_count": 2285,
   "id": "a55468d1",
   "metadata": {},
   "outputs": [],
   "source": [
    "#Después de rellenarlo con los strings de el otro data set también puedo ya convertirlo a int sin problema.\n",
    "df_2024['year'] = df_2024['year'].astype(int)"
   ]
  },
  {
   "cell_type": "code",
   "execution_count": 2286,
   "id": "cc26fe0b",
   "metadata": {},
   "outputs": [
    {
     "data": {
      "text/plain": [
       "mal_id               int64\n",
       "titles              object\n",
       "type                object\n",
       "source              object\n",
       "studios             object\n",
       "episodes             int32\n",
       "rating              object\n",
       "score              float64\n",
       "audicence_rank       int32\n",
       "scored_by            int32\n",
       "rank                 int32\n",
       "year                 int32\n",
       "season              object\n",
       "status              object\n",
       "coincide_nombre       bool\n",
       "genres_1            object\n",
       "genres_2            object\n",
       "dtype: object"
      ]
     },
     "execution_count": 2286,
     "metadata": {},
     "output_type": "execute_result"
    }
   ],
   "source": [
    "df_2024.dtypes"
   ]
  },
  {
   "cell_type": "code",
   "execution_count": 2287,
   "id": "18e39e7c",
   "metadata": {},
   "outputs": [],
   "source": [
    "#Limpito!!"
   ]
  },
  {
   "cell_type": "markdown",
   "id": "92b7fb03",
   "metadata": {},
   "source": [
    "### Inspección y Limpieza 2019"
   ]
  },
  {
   "cell_type": "code",
   "execution_count": 2288,
   "id": "2a3fc5d7",
   "metadata": {},
   "outputs": [
    {
     "data": {
      "text/plain": [
       "Index(['animeID', ' name', ' title_english', ' title_japanese',\n",
       "       ' title_synonyms', ' type', ' source', ' producers', ' genre',\n",
       "       ' studio', ' episodes', ' status', ' airing', ' aired', ' duration',\n",
       "       ' rating', ' score', ' scored_by', ' rank', ' popularity', ' members',\n",
       "       ' favorites', ' synopsis', ' background', ' premiered', ' broadcast',\n",
       "       ' related', 'aired_year', 'aired_season'],\n",
       "      dtype='object')"
      ]
     },
     "execution_count": 2288,
     "metadata": {},
     "output_type": "execute_result"
    }
   ],
   "source": [
    "df_2019.columns"
   ]
  },
  {
   "cell_type": "code",
   "execution_count": 2289,
   "id": "3434fb59",
   "metadata": {},
   "outputs": [],
   "source": [
    "#Voy a empezar con las columnas ya que este dataframe solo lo necesito para compararlo con el otro, no necesito más informacion adicional.\n",
    "df_2019.drop([' title_english', ' title_japanese',\n",
    "       ' title_synonyms', ' producers', ' episodes', ' status', ' airing', ' aired', ' duration',\n",
    "       ' members', ' favorites', ' synopsis', ' background', ' premiered', ' broadcast',\n",
    "       ' related', 'aired_season',' rating', ' studio'], axis=1, inplace=True)"
   ]
  },
  {
   "cell_type": "code",
   "execution_count": 2290,
   "id": "3983d3d9",
   "metadata": {},
   "outputs": [
    {
     "data": {
      "text/html": [
       "<div>\n",
       "<style scoped>\n",
       "    .dataframe tbody tr th:only-of-type {\n",
       "        vertical-align: middle;\n",
       "    }\n",
       "\n",
       "    .dataframe tbody tr th {\n",
       "        vertical-align: top;\n",
       "    }\n",
       "\n",
       "    .dataframe thead th {\n",
       "        text-align: right;\n",
       "    }\n",
       "</style>\n",
       "<table border=\"1\" class=\"dataframe\">\n",
       "  <thead>\n",
       "    <tr style=\"text-align: right;\">\n",
       "      <th></th>\n",
       "      <th>animeID</th>\n",
       "      <th>name</th>\n",
       "      <th>type</th>\n",
       "      <th>source</th>\n",
       "      <th>genre</th>\n",
       "      <th>score</th>\n",
       "      <th>scored_by</th>\n",
       "      <th>rank</th>\n",
       "      <th>popularity</th>\n",
       "      <th>aired_year</th>\n",
       "    </tr>\n",
       "  </thead>\n",
       "  <tbody>\n",
       "    <tr>\n",
       "      <th>0</th>\n",
       "      <td>1</td>\n",
       "      <td>Cowboy Bebop</td>\n",
       "      <td>TV</td>\n",
       "      <td>Original</td>\n",
       "      <td>['Action', 'Adventure', 'Comedy', 'Drama', 'Sc...</td>\n",
       "      <td>8.81</td>\n",
       "      <td>405664.0</td>\n",
       "      <td>26.0</td>\n",
       "      <td>39.0</td>\n",
       "      <td>1998</td>\n",
       "    </tr>\n",
       "    <tr>\n",
       "      <th>1</th>\n",
       "      <td>5</td>\n",
       "      <td>Cowboy Bebop: Tengoku no Tobira</td>\n",
       "      <td>Movie</td>\n",
       "      <td>Original</td>\n",
       "      <td>['Action', 'Drama', 'Mystery', 'Sci-Fi', 'Space']</td>\n",
       "      <td>8.41</td>\n",
       "      <td>120243.0</td>\n",
       "      <td>164.0</td>\n",
       "      <td>449.0</td>\n",
       "      <td>2001</td>\n",
       "    </tr>\n",
       "    <tr>\n",
       "      <th>2</th>\n",
       "      <td>6</td>\n",
       "      <td>Trigun</td>\n",
       "      <td>TV</td>\n",
       "      <td>Manga</td>\n",
       "      <td>['Action', 'Sci-Fi', 'Adventure', 'Comedy', 'D...</td>\n",
       "      <td>8.30</td>\n",
       "      <td>212537.0</td>\n",
       "      <td>255.0</td>\n",
       "      <td>146.0</td>\n",
       "      <td>1998</td>\n",
       "    </tr>\n",
       "    <tr>\n",
       "      <th>3</th>\n",
       "      <td>7</td>\n",
       "      <td>Witch Hunter Robin</td>\n",
       "      <td>TV</td>\n",
       "      <td>Original</td>\n",
       "      <td>['Action', 'Magic', 'Police', 'Supernatural', ...</td>\n",
       "      <td>7.33</td>\n",
       "      <td>32837.0</td>\n",
       "      <td>2371.0</td>\n",
       "      <td>1171.0</td>\n",
       "      <td>2002</td>\n",
       "    </tr>\n",
       "    <tr>\n",
       "      <th>4</th>\n",
       "      <td>8</td>\n",
       "      <td>Bouken Ou Beet</td>\n",
       "      <td>TV</td>\n",
       "      <td>Manga</td>\n",
       "      <td>['Adventure', 'Fantasy', 'Shounen', 'Supernatu...</td>\n",
       "      <td>7.03</td>\n",
       "      <td>4894.0</td>\n",
       "      <td>3544.0</td>\n",
       "      <td>3704.0</td>\n",
       "      <td>2004</td>\n",
       "    </tr>\n",
       "  </tbody>\n",
       "</table>\n",
       "</div>"
      ],
      "text/plain": [
       "   animeID                             name   type    source  \\\n",
       "0        1                     Cowboy Bebop     TV  Original   \n",
       "1        5  Cowboy Bebop: Tengoku no Tobira  Movie  Original   \n",
       "2        6                           Trigun     TV     Manga   \n",
       "3        7               Witch Hunter Robin     TV  Original   \n",
       "4        8                   Bouken Ou Beet     TV     Manga   \n",
       "\n",
       "                                               genre   score   scored_by  \\\n",
       "0  ['Action', 'Adventure', 'Comedy', 'Drama', 'Sc...    8.81    405664.0   \n",
       "1  ['Action', 'Drama', 'Mystery', 'Sci-Fi', 'Space']    8.41    120243.0   \n",
       "2  ['Action', 'Sci-Fi', 'Adventure', 'Comedy', 'D...    8.30    212537.0   \n",
       "3  ['Action', 'Magic', 'Police', 'Supernatural', ...    7.33     32837.0   \n",
       "4  ['Adventure', 'Fantasy', 'Shounen', 'Supernatu...    7.03      4894.0   \n",
       "\n",
       "     rank   popularity aired_year  \n",
       "0    26.0         39.0       1998  \n",
       "1   164.0        449.0       2001  \n",
       "2   255.0        146.0       1998  \n",
       "3  2371.0       1171.0       2002  \n",
       "4  3544.0       3704.0       2004  "
      ]
     },
     "execution_count": 2290,
     "metadata": {},
     "output_type": "execute_result"
    }
   ],
   "source": [
    "df_2019.head()"
   ]
  },
  {
   "cell_type": "code",
   "execution_count": 2291,
   "id": "24364274",
   "metadata": {},
   "outputs": [
    {
     "name": "stdout",
     "output_type": "stream",
     "text": [
      "0    ['Action', 'Adventure', 'Comedy', 'Drama', 'Sc...\n",
      "1    ['Action', 'Drama', 'Mystery', 'Sci-Fi', 'Space']\n",
      "2    ['Action', 'Sci-Fi', 'Adventure', 'Comedy', 'D...\n",
      "3    ['Action', 'Magic', 'Police', 'Supernatural', ...\n",
      "4    ['Adventure', 'Fantasy', 'Shounen', 'Supernatu...\n",
      "5    ['Comedy', 'Drama', 'Josei', 'Romance', 'Slice...\n",
      "6     ['Slice of Life', 'Comedy', 'Sports', 'Shounen']\n",
      "7      ['Action', 'Cars', 'Sports', 'Drama', 'Seinen']\n",
      "8    ['Drama', 'Horror', 'Mystery', 'Police', 'Psyc...\n",
      "9    ['Action', 'Adventure', 'Comedy', 'Super Power...\n",
      "Name:  genre, dtype: object\n"
     ]
    }
   ],
   "source": [
    "print(df_2019[' genre'].head(10))"
   ]
  },
  {
   "cell_type": "code",
   "execution_count": 2292,
   "id": "a838dc7c",
   "metadata": {},
   "outputs": [
    {
     "name": "stdout",
     "output_type": "stream",
     "text": [
      "                                               genre  genre_length\n",
      "0  [Action, Adventure, Comedy, Drama, Sci-Fi, Space]           6.0\n",
      "1            [Action, Drama, Mystery, Sci-Fi, Space]           5.0\n",
      "2  [Action, Sci-Fi, Adventure, Comedy, Drama, Sho...           6.0\n",
      "3  [Action, Magic, Police, Supernatural, Drama, M...           6.0\n",
      "4        [Adventure, Fantasy, Shounen, Supernatural]           4.0\n",
      "5     [Comedy, Drama, Josei, Romance, Slice of Life]           5.0\n",
      "6           [Slice of Life, Comedy, Sports, Shounen]           4.0\n",
      "7              [Action, Cars, Sports, Drama, Seinen]           5.0\n",
      "8  [Drama, Horror, Mystery, Police, Psychological...           7.0\n",
      "9  [Action, Adventure, Comedy, Super Power, Marti...           6.0\n"
     ]
    }
   ],
   "source": [
    "# Asegurarse de que 'genre' sea siempre una lista, incluso si está en formato de cadena\n",
    "df_2019[' genre'] = df_2019[' genre'].apply(lambda x: eval(x) if isinstance(x, str) else x)\n",
    "\n",
    "# Verificar el tipo de 'genre' y su longitud después de la conversión\n",
    "df_2019['genre_length'] = df_2019[' genre'].apply(lambda x: len(x) if isinstance(x, list) else None)\n",
    "\n",
    "# Ver los resultados\n",
    "print(df_2019[[' genre', 'genre_length']].head(10))"
   ]
  },
  {
   "cell_type": "code",
   "execution_count": 2293,
   "id": "ca9b1cc4",
   "metadata": {},
   "outputs": [
    {
     "name": "stdout",
     "output_type": "stream",
     "text": [
      "         genre_1    genre_2\n",
      "0         Action  Adventure\n",
      "1         Action      Drama\n",
      "2         Action     Sci-Fi\n",
      "3         Action      Magic\n",
      "4      Adventure    Fantasy\n",
      "5         Comedy      Drama\n",
      "6  Slice of Life     Comedy\n",
      "7         Action       Cars\n",
      "8          Drama     Horror\n",
      "9         Action  Adventure\n"
     ]
    }
   ],
   "source": [
    "# Extraer los dos primeros géneros y asignarlos a las columnas genre_1 y genre_2\n",
    "df_2019['genre_1'] = df_2019[' genre'].apply(lambda x: x[0] if isinstance(x, list) and len(x) > 0 else None)\n",
    "df_2019['genre_2'] = df_2019[' genre'].apply(lambda x: x[1] if isinstance(x, list) and len(x) > 1 else None)\n",
    "\n",
    "# Verificar el resultado\n",
    "print(df_2019[['genre_1', 'genre_2']].head(10))"
   ]
  },
  {
   "cell_type": "code",
   "execution_count": 2294,
   "id": "dc140921",
   "metadata": {},
   "outputs": [
    {
     "data": {
      "text/plain": [
       "(15278, 13)"
      ]
     },
     "execution_count": 2294,
     "metadata": {},
     "output_type": "execute_result"
    }
   ],
   "source": [
    "df_2019.shape"
   ]
  },
  {
   "cell_type": "code",
   "execution_count": 2295,
   "id": "c165df35",
   "metadata": {},
   "outputs": [
    {
     "data": {
      "text/html": [
       "<div>\n",
       "<style scoped>\n",
       "    .dataframe tbody tr th:only-of-type {\n",
       "        vertical-align: middle;\n",
       "    }\n",
       "\n",
       "    .dataframe tbody tr th {\n",
       "        vertical-align: top;\n",
       "    }\n",
       "\n",
       "    .dataframe thead th {\n",
       "        text-align: right;\n",
       "    }\n",
       "</style>\n",
       "<table border=\"1\" class=\"dataframe\">\n",
       "  <thead>\n",
       "    <tr style=\"text-align: right;\">\n",
       "      <th></th>\n",
       "      <th>count</th>\n",
       "      <th>mean</th>\n",
       "      <th>std</th>\n",
       "      <th>min</th>\n",
       "      <th>25%</th>\n",
       "      <th>50%</th>\n",
       "      <th>75%</th>\n",
       "      <th>max</th>\n",
       "    </tr>\n",
       "  </thead>\n",
       "  <tbody>\n",
       "    <tr>\n",
       "      <th>animeID</th>\n",
       "      <td>15278.0</td>\n",
       "      <td>19002.639416</td>\n",
       "      <td>13706.437012</td>\n",
       "      <td>1.0</td>\n",
       "      <td>5209.25</td>\n",
       "      <td>18308.00</td>\n",
       "      <td>33025.75</td>\n",
       "      <td>39199.0</td>\n",
       "    </tr>\n",
       "    <tr>\n",
       "      <th>score</th>\n",
       "      <td>14778.0</td>\n",
       "      <td>6.284508</td>\n",
       "      <td>1.073349</td>\n",
       "      <td>1.0</td>\n",
       "      <td>5.60</td>\n",
       "      <td>6.37</td>\n",
       "      <td>7.05</td>\n",
       "      <td>10.0</td>\n",
       "    </tr>\n",
       "    <tr>\n",
       "      <th>scored_by</th>\n",
       "      <td>15273.0</td>\n",
       "      <td>12107.014601</td>\n",
       "      <td>46929.422586</td>\n",
       "      <td>0.0</td>\n",
       "      <td>47.00</td>\n",
       "      <td>470.00</td>\n",
       "      <td>3857.00</td>\n",
       "      <td>1107955.0</td>\n",
       "    </tr>\n",
       "    <tr>\n",
       "      <th>rank</th>\n",
       "      <td>13669.0</td>\n",
       "      <td>6917.408004</td>\n",
       "      <td>4003.814986</td>\n",
       "      <td>0.0</td>\n",
       "      <td>3448.00</td>\n",
       "      <td>6932.00</td>\n",
       "      <td>10416.00</td>\n",
       "      <td>13838.0</td>\n",
       "    </tr>\n",
       "    <tr>\n",
       "      <th>popularity</th>\n",
       "      <td>15273.0</td>\n",
       "      <td>7741.991292</td>\n",
       "      <td>4482.323035</td>\n",
       "      <td>0.0</td>\n",
       "      <td>3855.00</td>\n",
       "      <td>7769.00</td>\n",
       "      <td>11627.00</td>\n",
       "      <td>15474.0</td>\n",
       "    </tr>\n",
       "    <tr>\n",
       "      <th>genre_length</th>\n",
       "      <td>15273.0</td>\n",
       "      <td>2.869443</td>\n",
       "      <td>1.668776</td>\n",
       "      <td>0.0</td>\n",
       "      <td>2.00</td>\n",
       "      <td>3.00</td>\n",
       "      <td>4.00</td>\n",
       "      <td>18.0</td>\n",
       "    </tr>\n",
       "  </tbody>\n",
       "</table>\n",
       "</div>"
      ],
      "text/plain": [
       "                count          mean           std  min      25%       50%  \\\n",
       "animeID       15278.0  19002.639416  13706.437012  1.0  5209.25  18308.00   \n",
       " score        14778.0      6.284508      1.073349  1.0     5.60      6.37   \n",
       " scored_by    15273.0  12107.014601  46929.422586  0.0    47.00    470.00   \n",
       " rank         13669.0   6917.408004   4003.814986  0.0  3448.00   6932.00   \n",
       " popularity   15273.0   7741.991292   4482.323035  0.0  3855.00   7769.00   \n",
       "genre_length  15273.0      2.869443      1.668776  0.0     2.00      3.00   \n",
       "\n",
       "                   75%        max  \n",
       "animeID       33025.75    39199.0  \n",
       " score            7.05       10.0  \n",
       " scored_by     3857.00  1107955.0  \n",
       " rank         10416.00    13838.0  \n",
       " popularity   11627.00    15474.0  \n",
       "genre_length      4.00       18.0  "
      ]
     },
     "execution_count": 2295,
     "metadata": {},
     "output_type": "execute_result"
    }
   ],
   "source": [
    "df_2019.describe().T"
   ]
  },
  {
   "cell_type": "code",
   "execution_count": 2296,
   "id": "97fa5a1b",
   "metadata": {},
   "outputs": [
    {
     "name": "stdout",
     "output_type": "stream",
     "text": [
      "<class 'pandas.core.frame.DataFrame'>\n",
      "RangeIndex: 15278 entries, 0 to 15277\n",
      "Data columns (total 13 columns):\n",
      " #   Column        Non-Null Count  Dtype  \n",
      "---  ------        --------------  -----  \n",
      " 0   animeID       15278 non-null  int64  \n",
      " 1    name         15278 non-null  object \n",
      " 2    type         15273 non-null  object \n",
      " 3    source       15273 non-null  object \n",
      " 4    genre        15273 non-null  object \n",
      " 5    score        14778 non-null  float64\n",
      " 6    scored_by    15273 non-null  float64\n",
      " 7    rank         13669 non-null  float64\n",
      " 8    popularity   15273 non-null  float64\n",
      " 9   aired_year    15007 non-null  object \n",
      " 10  genre_length  15273 non-null  float64\n",
      " 11  genre_1       15206 non-null  object \n",
      " 12  genre_2       11466 non-null  object \n",
      "dtypes: float64(5), int64(1), object(7)\n",
      "memory usage: 1.5+ MB\n"
     ]
    }
   ],
   "source": [
    "df_2019.info()"
   ]
  },
  {
   "cell_type": "code",
   "execution_count": 2297,
   "id": "cad6b0d9",
   "metadata": {},
   "outputs": [],
   "source": [
    "df_2019['aired_year'] = pd.to_numeric(df_2019['aired_year'], errors='coerce')"
   ]
  },
  {
   "cell_type": "code",
   "execution_count": 2298,
   "id": "ef4500d9",
   "metadata": {},
   "outputs": [
    {
     "data": {
      "text/plain": [
       "Index(['animeID', ' name', ' type', ' source', ' genre', ' score',\n",
       "       ' scored_by', ' rank', ' popularity', 'aired_year', 'genre_length',\n",
       "       'genre_1', 'genre_2'],\n",
       "      dtype='object')"
      ]
     },
     "execution_count": 2298,
     "metadata": {},
     "output_type": "execute_result"
    }
   ],
   "source": [
    "#Voy a limpiar los nombres de las columnas.\n",
    "df_2019.columns"
   ]
  },
  {
   "cell_type": "code",
   "execution_count": 2299,
   "id": "95bc2af2",
   "metadata": {},
   "outputs": [
    {
     "data": {
      "text/plain": [
       "Index(['mal_id', 'titles', 'type', 'source', 'genre', 'score', 'scored_by',\n",
       "       'rank', 'audience_rank', 'aired_year', 'genre_length', 'genre_1',\n",
       "       'genre_2'],\n",
       "      dtype='object')"
      ]
     },
     "execution_count": 2299,
     "metadata": {},
     "output_type": "execute_result"
    }
   ],
   "source": [
    "df_2019.columns = df_2019.columns.str.strip() \n",
    "df_2019.rename(columns={\n",
    "    'animeID': 'mal_id',\n",
    "    'name': 'titles',\n",
    "    'popularity': 'audience_rank'\n",
    "}, inplace=True)\n",
    "df_2019.columns"
   ]
  },
  {
   "cell_type": "code",
   "execution_count": 2300,
   "id": "8b9c69bf",
   "metadata": {},
   "outputs": [],
   "source": [
    "#Solo quiero las que tenga un mal_id que coincida.\n",
    "df_2019 = df_2019[df_2019['mal_id'].isin(df_2024['mal_id'])]"
   ]
  },
  {
   "cell_type": "code",
   "execution_count": 2301,
   "id": "bfd8f3be",
   "metadata": {},
   "outputs": [
    {
     "data": {
      "text/plain": [
       "(3569, 13)"
      ]
     },
     "execution_count": 2301,
     "metadata": {},
     "output_type": "execute_result"
    }
   ],
   "source": [
    "df_2019.shape"
   ]
  },
  {
   "cell_type": "code",
   "execution_count": 2302,
   "id": "8d8df084",
   "metadata": {},
   "outputs": [
    {
     "data": {
      "text/plain": [
       "mal_id             0\n",
       "titles             0\n",
       "type               0\n",
       "source             0\n",
       "genre              0\n",
       "score             82\n",
       "scored_by          0\n",
       "rank              83\n",
       "audience_rank      0\n",
       "aired_year        31\n",
       "genre_length       0\n",
       "genre_1            0\n",
       "genre_2          191\n",
       "dtype: int64"
      ]
     },
     "execution_count": 2302,
     "metadata": {},
     "output_type": "execute_result"
    }
   ],
   "source": [
    "df_2019.isna().sum()"
   ]
  },
  {
   "cell_type": "code",
   "execution_count": 2303,
   "id": "23f4eb97",
   "metadata": {},
   "outputs": [],
   "source": [
    "#No me interesan las rows que no tienen score ni rank\n",
    "df_2019 = df_2019.dropna(subset=['score'])\n",
    "df_2019 = df_2019.dropna(subset=['rank'])"
   ]
  },
  {
   "cell_type": "code",
   "execution_count": 2304,
   "id": "428bc0ad",
   "metadata": {},
   "outputs": [],
   "source": [
    "df_2019['genre_2'] = df_2019['genre_2'].fillna('Unknown')\n",
    "df_2019['aired_year'] = df_2019['aired_year'].fillna(0)"
   ]
  },
  {
   "cell_type": "code",
   "execution_count": 2305,
   "id": "ac438668",
   "metadata": {},
   "outputs": [],
   "source": [
    "#Limpito!"
   ]
  },
  {
   "cell_type": "markdown",
   "id": "dc01ab10",
   "metadata": {},
   "source": [
    "### Insights"
   ]
  },
  {
   "cell_type": "markdown",
   "id": "62adde81",
   "metadata": {},
   "source": [
    "**Insight 1**: Géneros más producidos antes y después del COVID\n",
    "\n",
    "1 . Contar cuántas veces aparece cada género (sumando ambas columnas) en 2019.\n",
    "\n",
    "2 . Hacer lo mismo para 2024.\n",
    "\n",
    "3 . Unir ambas tablas para comparar la evolución por género."
   ]
  },
  {
   "cell_type": "code",
   "execution_count": 2306,
   "id": "4ce14d7b",
   "metadata": {},
   "outputs": [
    {
     "data": {
      "text/plain": [
       "Index(['mal_id', 'titles', 'type', 'source', 'genre', 'score', 'scored_by',\n",
       "       'rank', 'audience_rank', 'aired_year', 'genre_length', 'genre_1',\n",
       "       'genre_2'],\n",
       "      dtype='object')"
      ]
     },
     "execution_count": 2306,
     "metadata": {},
     "output_type": "execute_result"
    }
   ],
   "source": [
    "df_2019.columns"
   ]
  },
  {
   "cell_type": "code",
   "execution_count": 2307,
   "id": "c14a57bc",
   "metadata": {},
   "outputs": [
    {
     "data": {
      "text/html": [
       "<div>\n",
       "<style scoped>\n",
       "    .dataframe tbody tr th:only-of-type {\n",
       "        vertical-align: middle;\n",
       "    }\n",
       "\n",
       "    .dataframe tbody tr th {\n",
       "        vertical-align: top;\n",
       "    }\n",
       "\n",
       "    .dataframe thead th {\n",
       "        text-align: right;\n",
       "    }\n",
       "</style>\n",
       "<table border=\"1\" class=\"dataframe\">\n",
       "  <thead>\n",
       "    <tr style=\"text-align: right;\">\n",
       "      <th>Periodo</th>\n",
       "      <th>2015-2019</th>\n",
       "      <th>2020-2024</th>\n",
       "      <th>Cambio</th>\n",
       "    </tr>\n",
       "    <tr>\n",
       "      <th>Género</th>\n",
       "      <th></th>\n",
       "      <th></th>\n",
       "      <th></th>\n",
       "    </tr>\n",
       "  </thead>\n",
       "  <tbody>\n",
       "    <tr>\n",
       "      <th>Unknown</th>\n",
       "      <td>4</td>\n",
       "      <td>63</td>\n",
       "      <td>59</td>\n",
       "    </tr>\n",
       "    <tr>\n",
       "      <th>Fantasy</th>\n",
       "      <td>25</td>\n",
       "      <td>84</td>\n",
       "      <td>59</td>\n",
       "    </tr>\n",
       "    <tr>\n",
       "      <th>Adventure</th>\n",
       "      <td>61</td>\n",
       "      <td>85</td>\n",
       "      <td>24</td>\n",
       "    </tr>\n",
       "    <tr>\n",
       "      <th>Romance</th>\n",
       "      <td>41</td>\n",
       "      <td>50</td>\n",
       "      <td>9</td>\n",
       "    </tr>\n",
       "    <tr>\n",
       "      <th>Award Winning</th>\n",
       "      <td>0</td>\n",
       "      <td>8</td>\n",
       "      <td>8</td>\n",
       "    </tr>\n",
       "    <tr>\n",
       "      <th>Suspense</th>\n",
       "      <td>0</td>\n",
       "      <td>7</td>\n",
       "      <td>7</td>\n",
       "    </tr>\n",
       "    <tr>\n",
       "      <th>Boys Love</th>\n",
       "      <td>0</td>\n",
       "      <td>3</td>\n",
       "      <td>3</td>\n",
       "    </tr>\n",
       "    <tr>\n",
       "      <th>Girls Love</th>\n",
       "      <td>0</td>\n",
       "      <td>2</td>\n",
       "      <td>2</td>\n",
       "    </tr>\n",
       "    <tr>\n",
       "      <th>Gourmet</th>\n",
       "      <td>0</td>\n",
       "      <td>1</td>\n",
       "      <td>1</td>\n",
       "    </tr>\n",
       "    <tr>\n",
       "      <th>Mecha</th>\n",
       "      <td>1</td>\n",
       "      <td>0</td>\n",
       "      <td>-1</td>\n",
       "    </tr>\n",
       "    <tr>\n",
       "      <th>Horror</th>\n",
       "      <td>4</td>\n",
       "      <td>3</td>\n",
       "      <td>-1</td>\n",
       "    </tr>\n",
       "    <tr>\n",
       "      <th>Police</th>\n",
       "      <td>1</td>\n",
       "      <td>0</td>\n",
       "      <td>-1</td>\n",
       "    </tr>\n",
       "    <tr>\n",
       "      <th>Martial Arts</th>\n",
       "      <td>1</td>\n",
       "      <td>0</td>\n",
       "      <td>-1</td>\n",
       "    </tr>\n",
       "    <tr>\n",
       "      <th>Josei</th>\n",
       "      <td>1</td>\n",
       "      <td>0</td>\n",
       "      <td>-1</td>\n",
       "    </tr>\n",
       "    <tr>\n",
       "      <th>Vampire</th>\n",
       "      <td>1</td>\n",
       "      <td>0</td>\n",
       "      <td>-1</td>\n",
       "    </tr>\n",
       "    <tr>\n",
       "      <th>Drama</th>\n",
       "      <td>60</td>\n",
       "      <td>59</td>\n",
       "      <td>-1</td>\n",
       "    </tr>\n",
       "    <tr>\n",
       "      <th>Super Power</th>\n",
       "      <td>2</td>\n",
       "      <td>0</td>\n",
       "      <td>-2</td>\n",
       "    </tr>\n",
       "    <tr>\n",
       "      <th>Thriller</th>\n",
       "      <td>2</td>\n",
       "      <td>0</td>\n",
       "      <td>-2</td>\n",
       "    </tr>\n",
       "    <tr>\n",
       "      <th>Dementia</th>\n",
       "      <td>2</td>\n",
       "      <td>0</td>\n",
       "      <td>-2</td>\n",
       "    </tr>\n",
       "    <tr>\n",
       "      <th>Parody</th>\n",
       "      <td>3</td>\n",
       "      <td>0</td>\n",
       "      <td>-3</td>\n",
       "    </tr>\n",
       "    <tr>\n",
       "      <th>Sports</th>\n",
       "      <td>12</td>\n",
       "      <td>8</td>\n",
       "      <td>-4</td>\n",
       "    </tr>\n",
       "    <tr>\n",
       "      <th>Seinen</th>\n",
       "      <td>4</td>\n",
       "      <td>0</td>\n",
       "      <td>-4</td>\n",
       "    </tr>\n",
       "    <tr>\n",
       "      <th>Shounen</th>\n",
       "      <td>5</td>\n",
       "      <td>0</td>\n",
       "      <td>-5</td>\n",
       "    </tr>\n",
       "    <tr>\n",
       "      <th>Music</th>\n",
       "      <td>5</td>\n",
       "      <td>0</td>\n",
       "      <td>-5</td>\n",
       "    </tr>\n",
       "    <tr>\n",
       "      <th>Psychological</th>\n",
       "      <td>6</td>\n",
       "      <td>0</td>\n",
       "      <td>-6</td>\n",
       "    </tr>\n",
       "    <tr>\n",
       "      <th>Demons</th>\n",
       "      <td>6</td>\n",
       "      <td>0</td>\n",
       "      <td>-6</td>\n",
       "    </tr>\n",
       "    <tr>\n",
       "      <th>Supernatural</th>\n",
       "      <td>17</td>\n",
       "      <td>11</td>\n",
       "      <td>-6</td>\n",
       "    </tr>\n",
       "    <tr>\n",
       "      <th>Historical</th>\n",
       "      <td>7</td>\n",
       "      <td>0</td>\n",
       "      <td>-7</td>\n",
       "    </tr>\n",
       "    <tr>\n",
       "      <th>Military</th>\n",
       "      <td>8</td>\n",
       "      <td>0</td>\n",
       "      <td>-8</td>\n",
       "    </tr>\n",
       "    <tr>\n",
       "      <th>Magic</th>\n",
       "      <td>9</td>\n",
       "      <td>0</td>\n",
       "      <td>-9</td>\n",
       "    </tr>\n",
       "    <tr>\n",
       "      <th>Mystery</th>\n",
       "      <td>34</td>\n",
       "      <td>22</td>\n",
       "      <td>-12</td>\n",
       "    </tr>\n",
       "    <tr>\n",
       "      <th>Game</th>\n",
       "      <td>14</td>\n",
       "      <td>0</td>\n",
       "      <td>-14</td>\n",
       "    </tr>\n",
       "    <tr>\n",
       "      <th>Ecchi</th>\n",
       "      <td>19</td>\n",
       "      <td>3</td>\n",
       "      <td>-16</td>\n",
       "    </tr>\n",
       "    <tr>\n",
       "      <th>Sci-Fi</th>\n",
       "      <td>28</td>\n",
       "      <td>10</td>\n",
       "      <td>-18</td>\n",
       "    </tr>\n",
       "    <tr>\n",
       "      <th>Harem</th>\n",
       "      <td>20</td>\n",
       "      <td>0</td>\n",
       "      <td>-20</td>\n",
       "    </tr>\n",
       "    <tr>\n",
       "      <th>School</th>\n",
       "      <td>23</td>\n",
       "      <td>0</td>\n",
       "      <td>-23</td>\n",
       "    </tr>\n",
       "    <tr>\n",
       "      <th>Action</th>\n",
       "      <td>169</td>\n",
       "      <td>144</td>\n",
       "      <td>-25</td>\n",
       "    </tr>\n",
       "    <tr>\n",
       "      <th>Slice Of Life</th>\n",
       "      <td>35</td>\n",
       "      <td>6</td>\n",
       "      <td>-29</td>\n",
       "    </tr>\n",
       "    <tr>\n",
       "      <th>Comedy</th>\n",
       "      <td>142</td>\n",
       "      <td>99</td>\n",
       "      <td>-43</td>\n",
       "    </tr>\n",
       "  </tbody>\n",
       "</table>\n",
       "</div>"
      ],
      "text/plain": [
       "Periodo        2015-2019  2020-2024  Cambio\n",
       "Género                                     \n",
       "Unknown                4         63      59\n",
       "Fantasy               25         84      59\n",
       "Adventure             61         85      24\n",
       "Romance               41         50       9\n",
       "Award Winning          0          8       8\n",
       "Suspense               0          7       7\n",
       "Boys Love              0          3       3\n",
       "Girls Love             0          2       2\n",
       "Gourmet                0          1       1\n",
       "Mecha                  1          0      -1\n",
       "Horror                 4          3      -1\n",
       "Police                 1          0      -1\n",
       "Martial Arts           1          0      -1\n",
       "Josei                  1          0      -1\n",
       "Vampire                1          0      -1\n",
       "Drama                 60         59      -1\n",
       "Super Power            2          0      -2\n",
       "Thriller               2          0      -2\n",
       "Dementia               2          0      -2\n",
       "Parody                 3          0      -3\n",
       "Sports                12          8      -4\n",
       "Seinen                 4          0      -4\n",
       "Shounen                5          0      -5\n",
       "Music                  5          0      -5\n",
       "Psychological          6          0      -6\n",
       "Demons                 6          0      -6\n",
       "Supernatural          17         11      -6\n",
       "Historical             7          0      -7\n",
       "Military               8          0      -8\n",
       "Magic                  9          0      -9\n",
       "Mystery               34         22     -12\n",
       "Game                  14          0     -14\n",
       "Ecchi                 19          3     -16\n",
       "Sci-Fi                28         10     -18\n",
       "Harem                 20          0     -20\n",
       "School                23          0     -23\n",
       "Action               169        144     -25\n",
       "Slice Of Life         35          6     -29\n",
       "Comedy               142         99     -43"
      ]
     },
     "execution_count": 2307,
     "metadata": {},
     "output_type": "execute_result"
    }
   ],
   "source": [
    "\n",
    "# Filtrar los periodos para 2015-2019 y 2020-2024\n",
    "df_2015_2019 = df_2019[df_2019['aired_year'].between(2015, 2019)]\n",
    "df_2020_2024 = df_2024[df_2024['year'].between(2020, 2024)]\n",
    "\n",
    "# Función para contar géneros\n",
    "def contar_generos(df, col1, col2):\n",
    "    generos = pd.concat([df[col1], df[col2]]).dropna().astype(str)\n",
    "    generos = generos.str.strip().str.title() \n",
    "    conteo = generos.value_counts().reset_index()\n",
    "    conteo.columns = ['Género', 'Frecuencia']\n",
    "    return conteo\n",
    "\n",
    "# Contar géneros para cada periodo\n",
    "generos_2015_2019 = contar_generos(df_2015_2019, 'genre_1', 'genre_2')\n",
    "generos_2015_2019 = generos_2015_2019.assign(Periodo='2015-2019')\n",
    "\n",
    "generos_2020_2024 = contar_generos(df_2020_2024, 'genres_1', 'genres_2')\n",
    "generos_2020_2024 = generos_2020_2024.assign(Periodo='2020-2024')\n",
    "\n",
    "# Unir ambos conteos\n",
    "generos_total = pd.concat([generos_2015_2019, generos_2020_2024])\n",
    "\n",
    "# Pivotar para comparar en tabla\n",
    "comparacion = generos_total.pivot(index='Género', columns='Periodo', values='Frecuencia').fillna(0).astype(int)\n",
    "\n",
    "# Asegurarse de que ambos periodos estén presentes, si no me daba error.\n",
    "for col in ['2015-2019', '2020-2024']:\n",
    "    if col not in comparacion.columns:\n",
    "        comparacion[col] = 0\n",
    "\n",
    "\n",
    "comparacion['Cambio'] = comparacion['2020-2024'] - comparacion['2015-2019']\n",
    "comparacion = comparacion.sort_values(by='Cambio', ascending=False)\n",
    "comparacion"
   ]
  },
  {
   "cell_type": "code",
   "execution_count": 2310,
   "id": "42dce7ac",
   "metadata": {},
   "outputs": [
    {
     "data": {
      "image/png": "[encoded data removed]",
      "text/plain": [
       "<Figure size 1400x700 with 1 Axes>"
      ]
     },
     "metadata": {},
     "output_type": "display_data"
    }
   ],
   "source": [
    "import pandas as pd\n",
    "import matplotlib.pyplot as plt\n",
    "import numpy as np\n",
    "\n",
    "# -----------------------------\n",
    "# Datos ya preparados\n",
    "# -----------------------------\n",
    "generos_deseados = ['Fantasy', 'Action', 'Adventure', 'Romance', 'Comedy', 'Drama',\n",
    "                    'Boys Love', 'Girls Love', 'Horror', 'Game', 'School', 'Slice Of Life', 'Ecchi']\n",
    "\n",
    "# Filtrar y ordenar por cambio (2020-2024 - 2015-2019)\n",
    "comparacion_filtrada = comparacion[comparacion.index.isin(generos_deseados)].copy()\n",
    "comparacion_filtrada['Cambio'] = comparacion_filtrada['2020-2024'] - comparacion_filtrada['2015-2019']\n",
    "comparacion_filtrada = comparacion_filtrada.sort_values(by='Cambio', ascending=False)\n",
    "\n",
    "# Nuevos nombres ordenados\n",
    "generos_ordenados = comparacion_filtrada.index.tolist()\n",
    "\n",
    "# -----------------------------\n",
    "# Colores actualizados\n",
    "# -----------------------------\n",
    "color_2015 = \"#66D7D1\"  # Turquesa\n",
    "color_2020 = \"#FF637D\"  # Rosa fuerte\n",
    "\n",
    "# -----------------------------\n",
    "# Plot con orden aplicado\n",
    "# -----------------------------\n",
    "x = np.arange(len(generos_ordenados))\n",
    "width = 0.35\n",
    "\n",
    "fig, ax = plt.subplots(figsize=(14, 7))\n",
    "\n",
    "ax.bar(x - width/2, comparacion_filtrada['2015-2019'], width, label='2015-2019', color=color_2015)\n",
    "ax.bar(x + width/2, comparacion_filtrada['2020-2024'], width, label='2020-2024', color=color_2020)\n",
    "\n",
    "ax.set_xlabel('Género')\n",
    "ax.set_ylabel('Cantidad de animes')\n",
    "ax.set_title('Producción de anime por género (ordenado por cambio)', fontsize=16)\n",
    "ax.set_xticks(x)\n",
    "ax.set_xticklabels(generos_ordenados, rotation=45, ha='right')\n",
    "ax.legend(title='Periodo')\n",
    "\n",
    "plt.tight_layout()\n",
    "plt.show()\n"
   ]
  },
  {
   "cell_type": "markdown",
   "id": "843a0cde",
   "metadata": {},
   "source": [
    "**Conclusión**\n",
    "Ha habido un cambio bastante notorio en algunos géneros. La fantasía ha subido mucho en producción en los años posteriores al COVID, pasando de 25 en el período 2015-2019 a 84 en 2020-2024, con un aumento de 59 animes. Este crecimiento es significativo y refleja un auge en el género. En cuanto a acción, aunque ha disminuido, sigue siendo un género muy producido desde antes del COVID, con 169 animes en 2015-2019 y 144 en 2020-2024. A pesar de una ligera caída, sigue siendo uno de los géneros más populares.\n",
    "\n",
    "La producción de aventura ha tenido un aumento notable, pasando de 61 a 85, con un incremento de 24 animes. Este crecimiento refleja una tendencia hacia historias de exploración, mundos abiertos y aventuras épicas, que están en auge.\n",
    "\n",
    "Romance, comedia y drama han experimentado un crecimiento más moderado, se mantienen populares, lo que indica una demanda constante sin cambios muy drásticos. Romance sube de 41 a 50, pero comedia y drama se mantienen en cifras estables, con una ligera disminución de comedia de 142 a 99.\n",
    "\n",
    "Boys Love y Girls Love han ganado popularidad, ya que en el período 2015-2019 no hubo producción sobre estos géneros, pero en los años posteriores han tenido algunas producciones, con 3 de Boys Love y 2 de Girls Love.\n",
    "\n",
    "Por otro lado, el horror ha experimentado una caída significativa, pasando de 4 a 3 animes. Slice of Life, a pesar de ser un género muy popular, también ha disminuido mucho, de 35 a 6, lo que refleja un cambio de enfoque en la producción. Game y School siguen la misma tendencia, con caídas de -14 y -23, respectivamente.\n",
    "\n",
    "Parece haber un cambio en las preferencias de los espectadores o en las decisiones de los estudios, con menos enfoque en géneros como slice of life, game o school, y más producción de fantasía, aventura y géneros de mayor escapismo."
   ]
  },
  {
   "cell_type": "code",
   "execution_count": null,
   "id": "24eb7477",
   "metadata": {},
   "outputs": [
    {
     "name": "stdout",
     "output_type": "stream",
     "text": [
      "            Estudio  Cantidad\n",
      "0    Toei Animation        42\n",
      "1           Unknown        37\n",
      "2         J.C.Staff        29\n",
      "3          Madhouse        21\n",
      "4           Pierrot        20\n",
      "5          ufotable        18\n",
      "6      A-1 Pictures        14\n",
      "7             Bones        12\n",
      "8   Kyoto Animation        12\n",
      "9  Nippon Animation        11\n"
     ]
    }
   ],
   "source": [
    "# Filtrar y hacer copia explícita\n",
    "fantasy_2024 = df_2024[\n",
    "    (df_2024['genres_1'] == 'Fantasy') | (df_2024['genres_2'] == 'Fantasy')\n",
    "].copy()\n",
    "\n",
    "# Limpiar la columna 'studios' (usar solo el primer estudio si hay varios)\n",
    "fantasy_2024['studios'] = fantasy_2024['studios'].astype(str).str.split(',').str[0].str.strip()\n",
    "\n",
    "# Contar cuántos animes fantasy ha hecho cada estudio\n",
    "estudios_fantasy_2024 = fantasy_2024['studios'].value_counts().reset_index()\n",
    "estudios_fantasy_2024.columns = ['Estudio', 'Cantidad']\n",
    "estudios_fantasy_2024 = estudios_fantasy_2024.sort_values(by='Cantidad', ascending=False)\n",
    "\n",
    "# Mostrar los resultados\n",
    "print(estudios_fantasy_2024.head(10))\n"
   ]
  },
  {
   "cell_type": "markdown",
   "id": "89dc4419",
   "metadata": {},
   "source": [
    "El estudios que más animes ha sacado de fantasía es toei animation, es un buen reference de animación."
   ]
  },
  {
   "cell_type": "code",
   "execution_count": null,
   "id": "6b1c6c5c",
   "metadata": {},
   "outputs": [
    {
     "name": "stdout",
     "output_type": "stream",
     "text": [
      "                                                 titles  score  \\\n",
      "4908                          Jujutsu Kaisen 2nd Season   8.83   \n",
      "4758                      Kimetsu no Yaiba: Yuukaku-hen   8.75   \n",
      "4358                                  Violet Evergarden   8.68   \n",
      "4618  Fate/stay night Movie: Heaven's Feel - III. Sp...   8.66   \n",
      "4634           Kimetsu no Yaiba Movie: Mugen Ressha-hen   8.59   \n",
      "3810                       Ookami Kodomo no Ame to Yuki   8.57   \n",
      "3785                               Fate/Zero 2nd Season   8.55   \n",
      "4833                                       Chainsaw Man   8.51   \n",
      "4737                                     Ousama Ranking   8.51   \n",
      "4458                              Yakusoku no Neverland   8.50   \n",
      "\n",
      "              studios  \n",
      "4908            MAPPA  \n",
      "4758         ufotable  \n",
      "4358  Kyoto Animation  \n",
      "4618         ufotable  \n",
      "4634         ufotable  \n",
      "3810     Studio Chizu  \n",
      "3785         ufotable  \n",
      "4833            MAPPA  \n",
      "4737       Wit Studio  \n",
      "4458      CloverWorks  \n"
     ]
    }
   ],
   "source": [
    "# Filtrar animes de fantasía (género 1 o 2)\n",
    "fantasy_2024 = df_2024[\n",
    "    (df_2024['genres_1'] == 'Fantasy') | (df_2024['genres_2'] == 'Fantasy')\n",
    "].copy()\n",
    "\n",
    "# Limpiar columna 'studios' (si hay múltiples, nos quedamos con el primero)\n",
    "fantasy_2024['studios'] = fantasy_2024['studios'].astype(str).str.split(',').str[0].str.strip()\n",
    "\n",
    "# Eliminar los que no tienen score o estudios\n",
    "fantasy_2024 = fantasy_2024.dropna(subset=['score', 'studios', 'titles'])\n",
    "\n",
    "# Ordenar por puntuación descendente\n",
    "top_fantasy_animes = fantasy_2024.sort_values(by='score', ascending=False)\n",
    "\n",
    "# Seleccionar columnas relevantes y mostrar los 10 primeros\n",
    "top_10 = top_fantasy_animes[['titles', 'score', 'studios']].head(10)\n",
    "\n",
    "# Mostrar resultados\n",
    "print(top_10)"
   ]
  },
  {
   "cell_type": "markdown",
   "id": "4f2b7ade",
   "metadata": {},
   "source": [
    "Aunque luego dentro de el top 10 de animes que mejor puntuación dan los espectadores de repite más MAPPA, y toei no entra dentro del top, al contrario que en aventura como vamos a ver a continuación."
   ]
  },
  {
   "cell_type": "code",
   "execution_count": null,
   "id": "0cf79555",
   "metadata": {},
   "outputs": [
    {
     "name": "stdout",
     "output_type": "stream",
     "text": [
      "                Estudio  Cantidad\n",
      "0        Toei Animation       165\n",
      "1               Sunrise        71\n",
      "2               Pierrot        57\n",
      "3      Nippon Animation        53\n",
      "4              Madhouse        52\n",
      "5     TMS Entertainment        47\n",
      "6             J.C.Staff        45\n",
      "7  Tatsunoko Production        43\n",
      "8               Unknown        43\n",
      "9                   OLM        31\n"
     ]
    }
   ],
   "source": [
    "# Filtrar y hacer copia explícita\n",
    "adventure_2024 = df_2024[\n",
    "    (df_2024['genres_1'] == 'Adventure') | (df_2024['genres_2'] == 'Adventure')\n",
    "].copy()\n",
    "\n",
    "# Limpiar la columna 'studios' (usar solo el primer estudio si hay varios)\n",
    "adventure_2024['studios'] = adventure_2024['studios'].astype(str).str.split(',').str[0].str.strip()\n",
    "\n",
    "# Contar cuántos animes fantasy ha hecho cada estudio\n",
    "estudios_adventure_2024 = adventure_2024['studios'].value_counts().reset_index()\n",
    "estudios_adventure_2024.columns = ['Estudio', 'Cantidad']\n",
    "estudios_adventure_2024 = estudios_adventure_2024.sort_values(by='Cantidad', ascending=False)\n",
    "\n",
    "# Mostrar los resultados\n",
    "print(estudios_adventure_2024.head(10))\n"
   ]
  },
  {
   "cell_type": "markdown",
   "id": "1aa60128",
   "metadata": {},
   "source": [
    "Aqui toei animatión es uno de los que más tienen también, seguido por Sunrise y pierrot."
   ]
  },
  {
   "cell_type": "code",
   "execution_count": null,
   "id": "7397637f",
   "metadata": {},
   "outputs": [
    {
     "name": "stdout",
     "output_type": "stream",
     "text": [
      "                                titles  score         studios\n",
      "4933                 Sousou no Frieren   9.38        Madhouse\n",
      "3482  Fullmetal Alchemist: Brotherhood   9.09           Bones\n",
      "3732            Hunter x Hunter (2011)   9.04        Madhouse\n",
      "4840         Bleach: Sennen Kessen-hen   9.02         Pierrot\n",
      "4859             Vinland Saga Season 2   8.81           MAPPA\n",
      "2708     Sen to Chihiro no Kamikakushi   8.77   Studio Ghibli\n",
      "4509                      Vinland Saga   8.75      Wit Studio\n",
      "4055     Mushishi Zoku Shou 2nd Season   8.73         Artland\n",
      "2532                         One Piece   8.72  Toei Animation\n",
      "3999                Mushishi Zoku Shou   8.69         Artland\n"
     ]
    }
   ],
   "source": [
    "# Filtrar animes de fantasía (género 1 o 2)\n",
    "adventure_2024 = df_2024[\n",
    "    (df_2024['genres_1'] == 'Adventure') | (df_2024['genres_2'] == 'Adventure')\n",
    "].copy()\n",
    "\n",
    "# Limpiar columna 'studios' (si hay múltiples, nos quedamos con el primero)\n",
    "adventure_2024['studios'] = adventure_2024['studios'].astype(str).str.split(',').str[0].str.strip()\n",
    "\n",
    "# Eliminar los que no tienen score o estudios\n",
    "adventure_2024 = adventure_2024.dropna(subset=['score', 'studios', 'titles'])\n",
    "\n",
    "# Ordenar por puntuación descendente\n",
    "top_adventure_animes = adventure_2024.sort_values(by='score', ascending=False)\n",
    "\n",
    "# Seleccionar columnas relevantes y mostrar los 10 primeros\n",
    "top_10_2 = top_adventure_animes[['titles', 'score', 'studios']].head(10)\n",
    "\n",
    "# Mostrar resultados\n",
    "print(top_10_2)"
   ]
  },
  {
   "cell_type": "markdown",
   "id": "5896152d",
   "metadata": {},
   "source": [
    "Vemos aqui que toei animation si esta en el top 10, pero Madhouse y Artland se repiten más."
   ]
  },
  {
   "cell_type": "markdown",
   "id": "bd3b2ce2",
   "metadata": {},
   "source": [
    "**Insight 2**: Desajuste entre lo que más se produce y más se valora.\n",
    "\n",
    "1 . Número de animes producidos.\n",
    "\n",
    "2 . Media de puntuación (score).\n",
    "\n",
    "3 . Contrastar: ¿se produce mucho algo que no se valora tanto? ¿O hay géneros poco producidos pero muy bien valorados?"
   ]
  },
  {
   "cell_type": "code",
   "execution_count": null,
   "id": "43fff8f5",
   "metadata": {},
   "outputs": [
    {
     "data": {
      "text/html": [
       "<div>\n",
       "<style scoped>\n",
       "    .dataframe tbody tr th:only-of-type {\n",
       "        vertical-align: middle;\n",
       "    }\n",
       "\n",
       "    .dataframe tbody tr th {\n",
       "        vertical-align: top;\n",
       "    }\n",
       "\n",
       "    .dataframe thead th {\n",
       "        text-align: right;\n",
       "    }\n",
       "</style>\n",
       "<table border=\"1\" class=\"dataframe\">\n",
       "  <thead>\n",
       "    <tr style=\"text-align: right;\">\n",
       "      <th></th>\n",
       "      <th>Género</th>\n",
       "      <th>Media_2015_2019</th>\n",
       "      <th>Media_2020_2024</th>\n",
       "      <th>Diferencia</th>\n",
       "    </tr>\n",
       "  </thead>\n",
       "  <tbody>\n",
       "    <tr>\n",
       "      <th>0</th>\n",
       "      <td>Action</td>\n",
       "      <td>7.627160</td>\n",
       "      <td>7.763264</td>\n",
       "      <td>0.136104</td>\n",
       "    </tr>\n",
       "    <tr>\n",
       "      <th>1</th>\n",
       "      <td>Adventure</td>\n",
       "      <td>7.749180</td>\n",
       "      <td>7.760824</td>\n",
       "      <td>0.011643</td>\n",
       "    </tr>\n",
       "    <tr>\n",
       "      <th>4</th>\n",
       "      <td>Comedy</td>\n",
       "      <td>7.655282</td>\n",
       "      <td>7.668586</td>\n",
       "      <td>0.013304</td>\n",
       "    </tr>\n",
       "    <tr>\n",
       "      <th>7</th>\n",
       "      <td>Drama</td>\n",
       "      <td>7.748667</td>\n",
       "      <td>8.019831</td>\n",
       "      <td>0.271164</td>\n",
       "    </tr>\n",
       "    <tr>\n",
       "      <th>8</th>\n",
       "      <td>Ecchi</td>\n",
       "      <td>7.497895</td>\n",
       "      <td>7.020000</td>\n",
       "      <td>-0.477895</td>\n",
       "    </tr>\n",
       "    <tr>\n",
       "      <th>9</th>\n",
       "      <td>Fantasy</td>\n",
       "      <td>7.684800</td>\n",
       "      <td>7.589881</td>\n",
       "      <td>-0.094919</td>\n",
       "    </tr>\n",
       "    <tr>\n",
       "      <th>15</th>\n",
       "      <td>Horror</td>\n",
       "      <td>6.952500</td>\n",
       "      <td>7.486667</td>\n",
       "      <td>0.534167</td>\n",
       "    </tr>\n",
       "    <tr>\n",
       "      <th>22</th>\n",
       "      <td>Mystery</td>\n",
       "      <td>7.812059</td>\n",
       "      <td>7.942273</td>\n",
       "      <td>0.130214</td>\n",
       "    </tr>\n",
       "    <tr>\n",
       "      <th>26</th>\n",
       "      <td>Romance</td>\n",
       "      <td>7.517317</td>\n",
       "      <td>7.658600</td>\n",
       "      <td>0.141283</td>\n",
       "    </tr>\n",
       "    <tr>\n",
       "      <th>28</th>\n",
       "      <td>Sci-Fi</td>\n",
       "      <td>7.611071</td>\n",
       "      <td>7.925000</td>\n",
       "      <td>0.313929</td>\n",
       "    </tr>\n",
       "    <tr>\n",
       "      <th>31</th>\n",
       "      <td>Slice Of Life</td>\n",
       "      <td>7.876286</td>\n",
       "      <td>7.740000</td>\n",
       "      <td>-0.136286</td>\n",
       "    </tr>\n",
       "    <tr>\n",
       "      <th>32</th>\n",
       "      <td>Sports</td>\n",
       "      <td>7.865000</td>\n",
       "      <td>8.161250</td>\n",
       "      <td>0.296250</td>\n",
       "    </tr>\n",
       "    <tr>\n",
       "      <th>34</th>\n",
       "      <td>Supernatural</td>\n",
       "      <td>7.668235</td>\n",
       "      <td>7.550000</td>\n",
       "      <td>-0.118235</td>\n",
       "    </tr>\n",
       "    <tr>\n",
       "      <th>37</th>\n",
       "      <td>Unknown</td>\n",
       "      <td>7.710000</td>\n",
       "      <td>7.800794</td>\n",
       "      <td>0.090794</td>\n",
       "    </tr>\n",
       "  </tbody>\n",
       "</table>\n",
       "</div>"
      ],
      "text/plain": [
       "           Género  Media_2015_2019  Media_2020_2024  Diferencia\n",
       "0          Action         7.627160         7.763264    0.136104\n",
       "1       Adventure         7.749180         7.760824    0.011643\n",
       "4          Comedy         7.655282         7.668586    0.013304\n",
       "7           Drama         7.748667         8.019831    0.271164\n",
       "8           Ecchi         7.497895         7.020000   -0.477895\n",
       "9         Fantasy         7.684800         7.589881   -0.094919\n",
       "15         Horror         6.952500         7.486667    0.534167\n",
       "22        Mystery         7.812059         7.942273    0.130214\n",
       "26        Romance         7.517317         7.658600    0.141283\n",
       "28         Sci-Fi         7.611071         7.925000    0.313929\n",
       "31  Slice Of Life         7.876286         7.740000   -0.136286\n",
       "32         Sports         7.865000         8.161250    0.296250\n",
       "34   Supernatural         7.668235         7.550000   -0.118235\n",
       "37        Unknown         7.710000         7.800794    0.090794"
      ]
     },
     "execution_count": 2206,
     "metadata": {},
     "output_type": "execute_result"
    }
   ],
   "source": [
    "def media_puntuaciones(df, col1, col2, score_col):\n",
    "    # Unimos las dos columnas de género y sus puntuaciones\n",
    "    generos = pd.concat([\n",
    "        df[[col1, score_col]].rename(columns={col1: 'Género'}),\n",
    "        df[[col2, score_col]].rename(columns={col2: 'Género'})\n",
    "    ])\n",
    "    # Limpiamos y normalizamos los nombres de género\n",
    "    generos = generos.dropna()\n",
    "    generos['Género'] = generos['Género'].str.strip().str.title()\n",
    "    # Calculamos la media por género\n",
    "    return generos.groupby('Género')[score_col].mean().reset_index()\n",
    "\n",
    "# Calculamos las medias para cada periodo\n",
    "media_2015_2019 = media_puntuaciones(df_2015_2019, 'genre_1', 'genre_2', 'score')\n",
    "media_2015_2019.rename(columns={'score': 'Media_2015_2019'}, inplace=True)\n",
    "\n",
    "media_2020_2024 = media_puntuaciones(df_2020_2024, 'genres_1', 'genres_2', 'score')\n",
    "media_2020_2024.rename(columns={'score': 'Media_2020_2024'}, inplace=True)\n",
    "\n",
    "# Unimos y calculamos la diferencia\n",
    "comparativa = pd.merge(media_2015_2019, media_2020_2024, on='Género', how='outer')\n",
    "comparativa['Diferencia'] = comparativa['Media_2020_2024'] - comparativa['Media_2015_2019']\n",
    "comparativa = comparativa.sort_values(by='Media_2020_2024', ascending=False)\n",
    "comparativa = comparativa.dropna(subset=['Diferencia'])\n",
    "comparativa.sort_index(inplace=True) \n",
    "comparativa"
   ]
  },
  {
   "cell_type": "code",
   "execution_count": 2324,
   "id": "4543e1f5",
   "metadata": {},
   "outputs": [
    {
     "data": {
      "image/png": "[encoded data removed]",
      "text/plain": [
       "<Figure size 1000x700 with 1 Axes>"
      ]
     },
     "metadata": {},
     "output_type": "display_data"
    }
   ],
   "source": [
    "import pandas as pd\n",
    "import matplotlib.pyplot as plt\n",
    "\n",
    "# -------------------------\n",
    "# Datos\n",
    "# -------------------------\n",
    "data = {\n",
    "    'Género': ['Action', 'Adventure', 'Comedy', 'Drama', 'Ecchi', 'Fantasy', 'Horror',\n",
    "               'Mystery', 'Romance', 'Sci-Fi', 'Slice Of Life', 'Sports', 'Supernatural'],\n",
    "    'Media_2015_2019': [7.627160, 7.749180, 7.655282, 7.748667, 7.497895, 7.684800, 6.952500,\n",
    "                        7.812059, 7.517317, 7.611071, 7.876286, 7.865000, 7.668235],\n",
    "    'Media_2020_2024': [7.763264, 7.760824, 7.668586, 8.019831, 7.020000, 7.589881, 7.486667,\n",
    "                        7.942273, 7.658600, 7.925000, 7.740000, 8.161250, 7.550000]\n",
    "}\n",
    "df = pd.DataFrame(data)\n",
    "df['Diferencia'] = df['Media_2020_2024'] - df['Media_2015_2019']\n",
    "\n",
    "# -------------------------\n",
    "# Ordenar por la diferencia (crecimiento) de mayor a menor\n",
    "df = df.sort_values('Diferencia', ascending=False)\n",
    "\n",
    "# -------------------------\n",
    "# Colores y posiciones\n",
    "# -------------------------\n",
    "color_2015 = '#66D7D1'\n",
    "color_2020 = '#FF637D'\n",
    "y = range(len(df))\n",
    "\n",
    "# -------------------------\n",
    "# Plot\n",
    "# -------------------------\n",
    "fig, ax = plt.subplots(figsize=(10, 7))\n",
    "\n",
    "# Líneas\n",
    "ax.hlines(y=y, xmin=df['Media_2015_2019'], xmax=df['Media_2020_2024'], color='lightgray', linewidth=2)\n",
    "\n",
    "# Puntos\n",
    "ax.scatter(df['Media_2015_2019'], y, color=color_2015, label='2015-2019', s=80)\n",
    "ax.scatter(df['Media_2020_2024'], y, color=color_2020, label='2020-2024', s=80)\n",
    "\n",
    "# Etiquetas\n",
    "ax.set_yticks(y)\n",
    "ax.set_yticklabels(df['Género'])\n",
    "ax.set_xlabel('Puntuación media')\n",
    "ax.set_title('Evolución de puntuación media por género (2015–2019 vs 2020–2024)', fontsize=14)\n",
    "ax.legend()\n",
    "\n",
    "plt.tight_layout()\n",
    "plt.show()"
   ]
  },
  {
   "cell_type": "markdown",
   "id": "268c044f",
   "metadata": {},
   "source": [
    "**Conclusiones**\n",
    "Los géneros que más han aumentado su puntuación media en los últimos años son Horror, que ha experimentado una mejora notable partiendo de una media bastante baja, seguido por Sports y Drama, que ahora se posicionan entre los mejor valorados. También destacan los incrementos en Sci-Fi y Mystery, así como mejoras más moderadas en Action y Romance.\n",
    "\n",
    "En cambio, a pesar del fuerte aumento en la producción del género Fantasy, su puntuación media ha descendido ligeramente. Esto podría deberse precisamente a su mayor volumen de producción: al haber más títulos, es posible que se haya incrementado también la cantidad de animes con menor calidad o recepción, afectando negativamente a su media.\n",
    "\n",
    "Por otro lado, el género que más ha caído en valoración es Ecchi. Esta bajada podría reflejar un cambio en el perfil del espectador de anime, que con el tiempo parece valorar menos la sexualización de los personajes femeninos, mostrando una tendencia hacia contenidos más cuidados o narrativamente ricos."
   ]
  },
  {
   "cell_type": "markdown",
   "id": "cc41694e",
   "metadata": {},
   "source": [
    "· Ahora que tenemos que Sports es una de las mas valoradas, ¿en que plataforma tiene una mejor bienvenida?"
   ]
  },
  {
   "cell_type": "code",
   "execution_count": null,
   "id": "400711f8",
   "metadata": {},
   "outputs": [
    {
     "data": {
      "text/html": [
       "<div>\n",
       "<style scoped>\n",
       "    .dataframe tbody tr th:only-of-type {\n",
       "        vertical-align: middle;\n",
       "    }\n",
       "\n",
       "    .dataframe tbody tr th {\n",
       "        vertical-align: top;\n",
       "    }\n",
       "\n",
       "    .dataframe thead th {\n",
       "        text-align: right;\n",
       "    }\n",
       "</style>\n",
       "<table border=\"1\" class=\"dataframe\">\n",
       "  <thead>\n",
       "    <tr style=\"text-align: right;\">\n",
       "      <th></th>\n",
       "      <th>Plataforma</th>\n",
       "      <th>Cantidad_Animes</th>\n",
       "      <th>Puntuación_Promedio</th>\n",
       "    </tr>\n",
       "  </thead>\n",
       "  <tbody>\n",
       "    <tr>\n",
       "      <th>0</th>\n",
       "      <td>TV</td>\n",
       "      <td>33</td>\n",
       "      <td>7.500909</td>\n",
       "    </tr>\n",
       "    <tr>\n",
       "      <th>1</th>\n",
       "      <td>Movie</td>\n",
       "      <td>10</td>\n",
       "      <td>7.180000</td>\n",
       "    </tr>\n",
       "    <tr>\n",
       "      <th>2</th>\n",
       "      <td>OVA</td>\n",
       "      <td>6</td>\n",
       "      <td>7.406667</td>\n",
       "    </tr>\n",
       "    <tr>\n",
       "      <th>3</th>\n",
       "      <td>TV Special</td>\n",
       "      <td>2</td>\n",
       "      <td>7.215000</td>\n",
       "    </tr>\n",
       "  </tbody>\n",
       "</table>\n",
       "</div>"
      ],
      "text/plain": [
       "   Plataforma  Cantidad_Animes  Puntuación_Promedio\n",
       "0          TV               33             7.500909\n",
       "1       Movie               10             7.180000\n",
       "2         OVA                6             7.406667\n",
       "3  TV Special                2             7.215000"
      ]
     },
     "execution_count": 2238,
     "metadata": {},
     "output_type": "execute_result"
    }
   ],
   "source": [
    "# Filtrar animes de género 'Sports'\n",
    "sports_animes = df[df['genres_1'] == 'Sports']\n",
    "# Contar cuántos animes de 'Sports' han salido por plataforma\n",
    "platform_count = sports_animes['type'].value_counts().reset_index()\n",
    "platform_count.columns = ['Plataforma', 'Cantidad_Animes']\n",
    "# Calcular la puntuación promedio por plataforma\n",
    "platform_score = sports_animes.groupby('type')['score'].mean().reset_index()\n",
    "platform_score.columns = ['Plataforma', 'Puntuación_Promedio']\n",
    "# Unir la cantidad de animes y la puntuación promedio\n",
    "platform_info = pd.merge(platform_count, platform_score, on='Plataforma')\n",
    "platform_info = platform_info.sort_values(by='Cantidad_Animes', ascending=False)\n",
    "platform_info"
   ]
  },
  {
   "cell_type": "code",
   "execution_count": 2313,
   "id": "e2ca7302",
   "metadata": {},
   "outputs": [
    {
     "data": {
      "image/png": "[encoded data removed]",
      "text/plain": [
       "<Figure size 1200x600 with 2 Axes>"
      ]
     },
     "metadata": {},
     "output_type": "display_data"
    }
   ],
   "source": [
    "import matplotlib.pyplot as plt\n",
    "import numpy as np\n",
    "\n",
    "# -----------------------------\n",
    "# Configuración del gráfico\n",
    "# -----------------------------\n",
    "x = np.arange(len(platform_info))  # posiciones en eje X\n",
    "width = 0.4  # ancho para el espacio\n",
    "\n",
    "fig, ax1 = plt.subplots(figsize=(12, 6))\n",
    "\n",
    "# Barras: cantidad de animes (turquesa)\n",
    "ax1.bar(x, platform_info['Cantidad_Animes'], color='#66D7D1', width=width, label='Cantidad de animes')\n",
    "ax1.set_ylabel('Cantidad de animes', color='#66D7D1')\n",
    "ax1.tick_params(axis='y', labelcolor='#66D7D1')\n",
    "ax1.set_xticks(x)\n",
    "ax1.set_xticklabels(platform_info['Plataforma'], rotation=45, ha='right')\n",
    "\n",
    "# Línea: puntuación promedio (rosa)\n",
    "ax2 = ax1.twinx()\n",
    "ax2.plot(x, platform_info['Puntuación_Promedio'], color='#FF637D', marker='o', linewidth=2, label='Puntuación promedio')\n",
    "ax2.set_ylabel('Puntuación promedio', color='#FF637D')\n",
    "ax2.tick_params(axis='y', labelcolor='#FF637D')\n",
    "\n",
    "# Título y ajustes\n",
    "plt.title('Recepción de animes de Sports según plataforma')\n",
    "fig.tight_layout()\n",
    "plt.show()"
   ]
  },
  {
   "cell_type": "markdown",
   "id": "e77e059a",
   "metadata": {},
   "source": [
    "**Insight 3**:Origen del contenido: ¿Qué se valora más los animes originales o las adaptaciones?\n",
    "\n",
    "1 . Clasificación del contenido.\n",
    "\n",
    "2 . Cálculo de la puntuación media.\n",
    "\n",
    "3 . Comparación."
   ]
  },
  {
   "cell_type": "code",
   "execution_count": null,
   "id": "f902a3d7",
   "metadata": {},
   "outputs": [
    {
     "data": {
      "text/html": [
       "<div>\n",
       "<style scoped>\n",
       "    .dataframe tbody tr th:only-of-type {\n",
       "        vertical-align: middle;\n",
       "    }\n",
       "\n",
       "    .dataframe tbody tr th {\n",
       "        vertical-align: top;\n",
       "    }\n",
       "\n",
       "    .dataframe thead th {\n",
       "        text-align: right;\n",
       "    }\n",
       "</style>\n",
       "<table border=\"1\" class=\"dataframe\">\n",
       "  <thead>\n",
       "    <tr style=\"text-align: right;\">\n",
       "      <th></th>\n",
       "      <th>Origen</th>\n",
       "      <th>Media_2015_2019</th>\n",
       "      <th>Media_2020_2024</th>\n",
       "      <th>Diferencia</th>\n",
       "    </tr>\n",
       "  </thead>\n",
       "  <tbody>\n",
       "    <tr>\n",
       "      <th>3</th>\n",
       "      <td>Game</td>\n",
       "      <td>6.919412</td>\n",
       "      <td>7.191667</td>\n",
       "      <td>0.272255</td>\n",
       "    </tr>\n",
       "    <tr>\n",
       "      <th>4</th>\n",
       "      <td>Light Novel</td>\n",
       "      <td>7.578667</td>\n",
       "      <td>7.585281</td>\n",
       "      <td>0.006614</td>\n",
       "    </tr>\n",
       "    <tr>\n",
       "      <th>5</th>\n",
       "      <td>Manga</td>\n",
       "      <td>7.773046</td>\n",
       "      <td>7.847910</td>\n",
       "      <td>0.074864</td>\n",
       "    </tr>\n",
       "    <tr>\n",
       "      <th>8</th>\n",
       "      <td>Novel</td>\n",
       "      <td>7.683125</td>\n",
       "      <td>7.880000</td>\n",
       "      <td>0.196875</td>\n",
       "    </tr>\n",
       "    <tr>\n",
       "      <th>9</th>\n",
       "      <td>Original</td>\n",
       "      <td>7.711190</td>\n",
       "      <td>7.754444</td>\n",
       "      <td>0.043254</td>\n",
       "    </tr>\n",
       "    <tr>\n",
       "      <th>10</th>\n",
       "      <td>Other</td>\n",
       "      <td>6.470000</td>\n",
       "      <td>7.800000</td>\n",
       "      <td>1.330000</td>\n",
       "    </tr>\n",
       "    <tr>\n",
       "      <th>11</th>\n",
       "      <td>Visual Novel</td>\n",
       "      <td>7.842000</td>\n",
       "      <td>7.930000</td>\n",
       "      <td>0.088000</td>\n",
       "    </tr>\n",
       "  </tbody>\n",
       "</table>\n",
       "</div>"
      ],
      "text/plain": [
       "          Origen  Media_2015_2019  Media_2020_2024  Diferencia\n",
       "3           Game         6.919412         7.191667    0.272255\n",
       "4    Light Novel         7.578667         7.585281    0.006614\n",
       "5          Manga         7.773046         7.847910    0.074864\n",
       "8          Novel         7.683125         7.880000    0.196875\n",
       "9       Original         7.711190         7.754444    0.043254\n",
       "10         Other         6.470000         7.800000    1.330000\n",
       "11  Visual Novel         7.842000         7.930000    0.088000"
      ]
     },
     "execution_count": 2210,
     "metadata": {},
     "output_type": "execute_result"
    }
   ],
   "source": [
    "def media_puntuaciones_origen(df, source_col, score_col):\n",
    "    origen = df[[source_col, score_col]].dropna()\n",
    "    origen['Origen'] = origen[source_col].str.strip().str.title()  # Normalizar nombres\n",
    "    return origen.groupby('Origen')[score_col].mean().reset_index()\n",
    "\n",
    "# Calculamos las medias para cada periodo\n",
    "media_2015_2019 = media_puntuaciones_origen(df_2015_2019, 'source', 'score')\n",
    "media_2015_2019.rename(columns={'score': 'Media_2015_2019'}, inplace=True)\n",
    "\n",
    "media_2020_2024 = media_puntuaciones_origen(df_2020_2024, 'source', 'score')\n",
    "media_2020_2024.rename(columns={'score': 'Media_2020_2024'}, inplace=True)\n",
    "\n",
    "# Unimos y calculamos la diferencia\n",
    "comparativa = pd.merge(media_2015_2019, media_2020_2024, on='Origen', how='outer')\n",
    "comparativa['Diferencia'] = comparativa['Media_2020_2024'] - comparativa['Media_2015_2019']\n",
    "comparativa = comparativa.sort_values(by='Media_2020_2024', ascending=False)\n",
    "comparativa = comparativa.dropna(subset=['Diferencia'])\n",
    "comparativa.sort_index(inplace=True) \n",
    "comparativa"
   ]
  },
  {
   "cell_type": "code",
   "execution_count": 2322,
   "id": "d200a57a",
   "metadata": {},
   "outputs": [
    {
     "data": {
      "image/png": "[encoded data removed]",
      "text/plain": [
       "<Figure size 1200x700 with 1 Axes>"
      ]
     },
     "metadata": {},
     "output_type": "display_data"
    }
   ],
   "source": [
    "import matplotlib.pyplot as plt\n",
    "import pandas as pd\n",
    "\n",
    "# Datos proporcionados (media y diferencia)\n",
    "data_media = {\n",
    "    'Origen': ['Game', 'Light Novel', 'Manga', 'Novel', 'Original', 'Visual Novel'],\n",
    "    'Media_2015_2019': [6.919412, 7.578667, 7.773046, 7.683125, 7.711190, 7.842000],\n",
    "    'Media_2020_2024': [7.191667, 7.585281, 7.847910, 7.880000, 7.754444, 7.930000],\n",
    "    'Diferencia': [0.272255, 0.006614, 0.074864, 0.196875, 0.043254, 0.088000]\n",
    "}\n",
    "\n",
    "# Convertir los datos en un DataFrame\n",
    "df_media = pd.DataFrame(data_media)\n",
    "\n",
    "# Eliminar \"Other\"\n",
    "df_media = df_media[df_media['Origen'] != 'Other']\n",
    "\n",
    "# Ordenar el DataFrame por la diferencia (de mayor a menor)\n",
    "df_media = df_media.sort_values('Diferencia', ascending=False)\n",
    "\n",
    "# Colores personalizados (complementarios)\n",
    "colors = ['#66d7d1', '#ff637D', '#2E9FFF', '#FF49B8', '#8A92E4', '#FF6F61']  # Complementarios de los dos colores dados\n",
    "\n",
    "# Crear gráfico de barras horizontales\n",
    "fig, ax = plt.subplots(figsize=(12, 7))\n",
    "\n",
    "# Posicionar las barras con colores asignados\n",
    "ax.barh(df_media['Origen'], df_media['Diferencia'], color=colors)\n",
    "\n",
    "# Añadir etiquetas en las barras\n",
    "for index, value in enumerate(df_media['Diferencia']):\n",
    "    ax.text(value, index, f'{value:.3f}', va='center', color='white', fontweight='bold')\n",
    "\n",
    "# Títulos y etiquetas\n",
    "ax.set_xlabel('Diferencia de Puntuación (2020-2024 - 2015-2019)', fontsize=12)\n",
    "ax.set_title('Diferencia de Puntuación por Origen (2015-2019 vs 2020-2024)', fontsize=14)\n",
    "\n",
    "# Mejorar el diseño\n",
    "plt.tight_layout()\n",
    "plt.show()"
   ]
  },
  {
   "cell_type": "markdown",
   "id": "6b8054af",
   "metadata": {},
   "source": [
    "Las adaptaciones a videojuegos y novelas han tenido una buena acogida, con un aumento en sus calificaciones. Las adaptaciones a juegos mejoraron en 0.27 y las de novelas en 0.20, indicando una recepción positiva en ambos casos."
   ]
  },
  {
   "cell_type": "markdown",
   "id": "a4d67c00",
   "metadata": {},
   "source": [
    "**Insight 4**: ¿Que géneros llegan a mas gente? La cantidad de gente que le ha dado un score a cada genero de media."
   ]
  },
  {
   "cell_type": "code",
   "execution_count": null,
   "id": "1e6532be",
   "metadata": {},
   "outputs": [
    {
     "data": {
      "text/plain": [
       "Index(['mal_id', 'titles', 'type', 'source', 'genre', 'score', 'scored_by',\n",
       "       'rank', 'audience_rank', 'aired_year', 'genre_length', 'genre_1',\n",
       "       'genre_2'],\n",
       "      dtype='object')"
      ]
     },
     "execution_count": 2212,
     "metadata": {},
     "output_type": "execute_result"
    }
   ],
   "source": [
    "df_2015_2019.columns"
   ]
  },
  {
   "cell_type": "code",
   "execution_count": null,
   "id": "2bf79616",
   "metadata": {},
   "outputs": [
    {
     "data": {
      "text/html": [
       "<div>\n",
       "<style scoped>\n",
       "    .dataframe tbody tr th:only-of-type {\n",
       "        vertical-align: middle;\n",
       "    }\n",
       "\n",
       "    .dataframe tbody tr th {\n",
       "        vertical-align: top;\n",
       "    }\n",
       "\n",
       "    .dataframe thead th {\n",
       "        text-align: right;\n",
       "    }\n",
       "</style>\n",
       "<table border=\"1\" class=\"dataframe\">\n",
       "  <thead>\n",
       "    <tr style=\"text-align: right;\">\n",
       "      <th></th>\n",
       "      <th>genres_1</th>\n",
       "      <th>scored_by_2015_2019</th>\n",
       "      <th>scored_by_2020_2024</th>\n",
       "      <th>Cambio</th>\n",
       "    </tr>\n",
       "  </thead>\n",
       "  <tbody>\n",
       "    <tr>\n",
       "      <th>0</th>\n",
       "      <td>Action</td>\n",
       "      <td>107236.840237</td>\n",
       "      <td>220388.388889</td>\n",
       "      <td>113151.548652</td>\n",
       "    </tr>\n",
       "    <tr>\n",
       "      <th>1</th>\n",
       "      <td>Adventure</td>\n",
       "      <td>97287.733333</td>\n",
       "      <td>181806.083333</td>\n",
       "      <td>84518.350000</td>\n",
       "    </tr>\n",
       "    <tr>\n",
       "      <th>4</th>\n",
       "      <td>Comedy</td>\n",
       "      <td>80029.013889</td>\n",
       "      <td>160598.260870</td>\n",
       "      <td>80569.246981</td>\n",
       "    </tr>\n",
       "    <tr>\n",
       "      <th>7</th>\n",
       "      <td>Drama</td>\n",
       "      <td>91320.321429</td>\n",
       "      <td>183700.071429</td>\n",
       "      <td>92379.750000</td>\n",
       "    </tr>\n",
       "    <tr>\n",
       "      <th>9</th>\n",
       "      <td>Fantasy</td>\n",
       "      <td>95529.600000</td>\n",
       "      <td>100304.500000</td>\n",
       "      <td>4774.900000</td>\n",
       "    </tr>\n",
       "    <tr>\n",
       "      <th>19</th>\n",
       "      <td>Mystery</td>\n",
       "      <td>134846.857143</td>\n",
       "      <td>160187.571429</td>\n",
       "      <td>25340.714286</td>\n",
       "    </tr>\n",
       "    <tr>\n",
       "      <th>21</th>\n",
       "      <td>Romance</td>\n",
       "      <td>101450.500000</td>\n",
       "      <td>248991.454545</td>\n",
       "      <td>147540.954545</td>\n",
       "    </tr>\n",
       "    <tr>\n",
       "      <th>24</th>\n",
       "      <td>Slice of Life</td>\n",
       "      <td>79840.666667</td>\n",
       "      <td>83047.333333</td>\n",
       "      <td>3206.666667</td>\n",
       "    </tr>\n",
       "    <tr>\n",
       "      <th>25</th>\n",
       "      <td>Sports</td>\n",
       "      <td>32947.500000</td>\n",
       "      <td>262226.500000</td>\n",
       "      <td>229279.000000</td>\n",
       "    </tr>\n",
       "  </tbody>\n",
       "</table>\n",
       "</div>"
      ],
      "text/plain": [
       "         genres_1  scored_by_2015_2019  scored_by_2020_2024         Cambio\n",
       "0          Action        107236.840237        220388.388889  113151.548652\n",
       "1       Adventure         97287.733333        181806.083333   84518.350000\n",
       "4          Comedy         80029.013889        160598.260870   80569.246981\n",
       "7           Drama         91320.321429        183700.071429   92379.750000\n",
       "9         Fantasy         95529.600000        100304.500000    4774.900000\n",
       "19        Mystery        134846.857143        160187.571429   25340.714286\n",
       "21        Romance        101450.500000        248991.454545  147540.954545\n",
       "24  Slice of Life         79840.666667         83047.333333    3206.666667\n",
       "25         Sports         32947.500000        262226.500000  229279.000000"
      ]
     },
     "execution_count": 2213,
     "metadata": {},
     "output_type": "execute_result"
    }
   ],
   "source": [
    "\n",
    "popularidad_2015_2019 = df_2015_2019.groupby('genre_1')['scored_by'].mean().reset_index()\n",
    "popularidad_2020_2024 = df_2020_2024.groupby('genres_1')['scored_by'].mean().reset_index()\n",
    "\n",
    "popularidad_2015_2019.rename(columns={'genre_1': 'genres_1'}, inplace=True)\n",
    "popularidad_2015_2019.rename(columns={'scored_by': 'scored_by_2015_2019'}, inplace=True)\n",
    "popularidad_2020_2024.rename(columns={'scored_by': 'scored_by_2020_2024'}, inplace=True)\n",
    "\n",
    "comparativa_popularidad = pd.merge(popularidad_2015_2019, popularidad_2020_2024, on='genres_1', how='outer')\n",
    "\n",
    "comparativa_popularidad['Cambio'] = comparativa_popularidad['scored_by_2020_2024'] - comparativa_popularidad['scored_by_2015_2019']\n",
    "\n",
    "comparativa_popularidad = comparativa_popularidad.sort_values(by='scored_by_2020_2024', ascending=False)\n",
    "comparativa_popularidad.sort_index(inplace=True)\n",
    "comparativa_popularidad = comparativa_popularidad.dropna(subset=['Cambio'])\n",
    "comparativa_popularidad"
   ]
  },
  {
   "cell_type": "code",
   "execution_count": 2320,
   "id": "661d328d",
   "metadata": {},
   "outputs": [
    {
     "data": {
      "image/png": "[encoded data removed]",
      "text/plain": [
       "<Figure size 1000x600 with 1 Axes>"
      ]
     },
     "metadata": {},
     "output_type": "display_data"
    }
   ],
   "source": [
    "import matplotlib.pyplot as plt\n",
    "import numpy as np\n",
    "\n",
    "# Datos\n",
    "genres = ['Action', 'Adventure', 'Comedy', 'Drama', 'Fantasy', 'Mystery', 'Romance', 'Slice of Life', 'Sports']\n",
    "scored_2015_2019 = [107236.840237, 97287.733333, 80029.013889, 91320.321429, 95529.600000, 134846.857143, 101450.500000, 79840.666667, 32947.500000]\n",
    "scored_2020_2024 = [220388.388889, 181806.083333, 160598.260870, 183700.071429, 100304.500000, 160187.571429, 248991.454545, 83047.333333, 262226.500000]\n",
    "change = [113151.548652, 84518.350000, 80569.246981, 92379.750000, 4774.900000, 25340.714286, 147540.954545, 3206.666667, 229279.000000]\n",
    "\n",
    "# Ordenar los géneros según las puntuaciones de 2020-2024 (de mayor a menor)\n",
    "sorted_indices = np.argsort(scored_2020_2024)[::-1]\n",
    "\n",
    "# Reorganizar los datos según el orden\n",
    "genres_sorted = np.array(genres)[sorted_indices]\n",
    "scored_2015_2019_sorted = np.array(scored_2015_2019)[sorted_indices]\n",
    "scored_2020_2024_sorted = np.array(scored_2020_2024)[sorted_indices]\n",
    "\n",
    "# Crear el gráfico\n",
    "fig, ax = plt.subplots(figsize=(10, 6))\n",
    "\n",
    "# Colores\n",
    "color_1 = '#66d7d1'\n",
    "color_2 = '#ff637D'\n",
    "\n",
    "# Ancho de las barras\n",
    "width = 0.35\n",
    "\n",
    "# Posiciones para las barras\n",
    "indices_sorted = np.arange(len(genres_sorted))\n",
    "\n",
    "# Dibujar las barras\n",
    "bar1 = ax.bar(indices_sorted - width/2, scored_2015_2019_sorted, width, label='2015-2019', color=color_1)\n",
    "bar2 = ax.bar(indices_sorted + width/2, scored_2020_2024_sorted, width, label='2020-2024', color=color_2)\n",
    "\n",
    "# Etiquetas y título\n",
    "ax.set_xlabel('Géneros', fontsize=12)\n",
    "ax.set_ylabel('Puntuación', fontsize=12)\n",
    "ax.set_title('Comparación de Puntuaciones por Género (2015-2019 vs 2020-2024)', fontsize=14)\n",
    "ax.set_xticks(indices_sorted)\n",
    "ax.set_xticklabels(genres_sorted, rotation=45, ha='right', fontsize=10)\n",
    "\n",
    "# Añadir leyenda\n",
    "ax.legend()\n",
    "\n",
    "# Mostrar gráfico\n",
    "plt.tight_layout()\n",
    "plt.show()"
   ]
  },
  {
   "cell_type": "markdown",
   "id": "4aa4a410",
   "metadata": {},
   "source": [
    "**Conclusiones** Hay un aumento notable en géneros como Sports, Action y Romance, destacando Sports como el género que, de media, ha llegado a más personas, al menos en términos de quienes puntúan los animes. Estos géneros han visto un aumento significativo en su popularidad, colocándose en lo alto del ranking. Adventure y Drama, aunque no han experimentado el mismo crecimiento, siguen siendo populares y se mantienen entre los géneros más valorados.\n",
    "\n",
    "Por otro lado, Fantasy ha mantenido una popularidad constante, mientras que Slice of Life parece tener un público más específico, con un aumento moderado en su puntuación."
   ]
  },
  {
   "cell_type": "markdown",
   "id": "81aa5842",
   "metadata": {},
   "source": [
    "**Recomendaciones finales**\n",
    "\n",
    "Apostar por Sports, Action y Romance: Son géneros que han crecido mucho, tanto en popularidad como en puntuación. Los estudios deberían aumentar la producción de estos géneros.\n",
    "\n",
    "Mantener Adventure y Drama: Aunque no crecieron tanto, siguen siendo populares. Es importante seguir innovando en estos géneros para mantener el interés.\n",
    "\n",
    "Explorar Boys Love y Girls Love: Han ganado popularidad recientemente, lo que ofrece una buena oportunidad para producir más contenido en estos nichos.\n",
    "\n",
    "Reajustar Slice of Life, Game y School: Estos géneros han perdido fuerza, por lo que los estudios deberían repensar su enfoque o adaptarlos a nuevas tendencias.\n",
    "\n",
    "Equilibrar calidad y cantidad: La producción masiva de títulos no siempre mejora la calidad. Es importante priorizar la calidad, especialmente en géneros como Fantasy.\n",
    "\n",
    "Adaptarse al cambio de público: Tras el confinamiento, el interés por géneros escapistas como Fantasy, Adventure o Romance ha crecido. Es probable que, al pasar más tiempo en casa, el público buscara historias más envolventes y alejadas de la realidad. Los estudios deberían tener en cuenta este cambio emocional y de consumo."
   ]
  },
  {
   "cell_type": "markdown",
   "id": "e42b286e",
   "metadata": {},
   "source": []
  }
 ],
 "metadata": {
  "kernelspec": {
   "display_name": "base",
   "language": "python",
   "name": "python3"
  },
  "language_info": {
   "codemirror_mode": {
    "name": "ipython",
    "version": 3
   },
   "file_extension": ".py",
   "mimetype": "text/x-python",
   "name": "python",
   "nbconvert_exporter": "python",
   "pygments_lexer": "ipython3",
   "version": "3.12.7"
  }
 },
 "nbformat": 4,
 "nbformat_minor": 5
}
