{
 "cells": [
  {
   "cell_type": "markdown",
   "id": "ac697401",
   "metadata": {},
   "source": [
    "# Analisis de datos sobre la evolución de anime"
   ]
  },
  {
   "cell_type": "markdown",
   "id": "e9015efd",
   "metadata": {},
   "source": [
    "##### En el archivo data-no-mining hemos conseguido, a partir de una API y un DataFrame de Kaggle, un DataFrame con toda la informacion que necesito.\n",
    "##### Voy a empezar con la limpieza de ese y otro data frame del 2019.\n",
    "##### Mas tarde voy a comenzar con los insights comparando un DataFrame con otro."
   ]
  },
  {
   "cell_type": "code",
   "execution_count": 297,
   "id": "1ed5d1be",
   "metadata": {},
   "outputs": [],
   "source": [
    "import pandas as pd\n",
    "import ast\n",
    "import numpy as np\n",
    "\n",
    "df_2024 = pd.read_csv('anime_data.csv')\n",
    "df_2019 = pd.read_csv('Anime.csv')"
   ]
  },
  {
   "cell_type": "markdown",
   "id": "62f5bad0",
   "metadata": {},
   "source": [
    "### Primero voy a compararlas para ver si los id estan bien."
   ]
  },
  {
   "cell_type": "code",
   "execution_count": 298,
   "id": "e39ea0e0",
   "metadata": {},
   "outputs": [
    {
     "name": "stdout",
     "output_type": "stream",
     "text": [
      "   mal_id              titles  coincide_nombre\n",
      "0    1550         Attack No.1             True\n",
      "1    2406           Sazae-san             True\n",
      "2    9895        The Bathroom             True\n",
      "3    9163  Attack No.1 (1970)             True\n",
      "4    7259          Kenju Giga             True\n"
     ]
    }
   ],
   "source": [
    "resultados_comparacion = []\n",
    "\n",
    "\n",
    "for index, row in df_2024.iterrows():\n",
    "    id_actual = row['mal_id'] \n",
    "    nombre_actual = row['titles']  \n",
    "    \n",
    "    df_2019_row = df_2019[df_2019['animeID'] == id_actual]\n",
    "    \n",
    "    if not df_2019_row.empty:  \n",
    "        nombre_2019 = df_2019_row[' name'].iloc[0]  \n",
    "        \n",
    "        \n",
    "        if nombre_actual == nombre_2019:\n",
    "            resultados_comparacion.append(True)\n",
    "        else:\n",
    "            resultados_comparacion.append(False)\n",
    "    else:\n",
    "        resultados_comparacion.append(False) \n",
    "\n",
    "\n",
    "df_2024['coincide_nombre'] = resultados_comparacion\n",
    "\n",
    "\n",
    "print(df_2024[['mal_id', 'titles', 'coincide_nombre']].head())"
   ]
  },
  {
   "cell_type": "code",
   "execution_count": 299,
   "id": "c110f058",
   "metadata": {},
   "outputs": [
    {
     "name": "stdout",
     "output_type": "stream",
     "text": [
      "Número de coincidencias True: 3920\n"
     ]
    }
   ],
   "source": [
    "total_true = df_2024['coincide_nombre'].sum()\n",
    "print(f'Número de coincidencias True: {total_true}')"
   ]
  },
  {
   "cell_type": "markdown",
   "id": "47c81b65",
   "metadata": {},
   "source": [
    "##### Entonces podemos usar los dos DF ya que los id coinciden, hay muchos que no coinciden por que a lo mejor no salieron esos animes en 2019."
   ]
  },
  {
   "cell_type": "markdown",
   "id": "5af1bb3a",
   "metadata": {},
   "source": [
    "### Inspección y Limpieza 2024"
   ]
  },
  {
   "cell_type": "code",
   "execution_count": 300,
   "id": "6d1c578b",
   "metadata": {},
   "outputs": [
    {
     "data": {
      "text/html": [
       "<div>\n",
       "<style scoped>\n",
       "    .dataframe tbody tr th:only-of-type {\n",
       "        vertical-align: middle;\n",
       "    }\n",
       "\n",
       "    .dataframe tbody tr th {\n",
       "        vertical-align: top;\n",
       "    }\n",
       "\n",
       "    .dataframe thead th {\n",
       "        text-align: right;\n",
       "    }\n",
       "</style>\n",
       "<table border=\"1\" class=\"dataframe\">\n",
       "  <thead>\n",
       "    <tr style=\"text-align: right;\">\n",
       "      <th></th>\n",
       "      <th>mal_id</th>\n",
       "      <th>titles</th>\n",
       "      <th>type</th>\n",
       "      <th>genre_1</th>\n",
       "      <th>genre_2</th>\n",
       "      <th>source</th>\n",
       "      <th>studios</th>\n",
       "      <th>episodes</th>\n",
       "      <th>rating</th>\n",
       "      <th>score</th>\n",
       "      <th>...</th>\n",
       "      <th>scored_by</th>\n",
       "      <th>rank</th>\n",
       "      <th>members</th>\n",
       "      <th>favorites</th>\n",
       "      <th>synopsis</th>\n",
       "      <th>status</th>\n",
       "      <th>airing</th>\n",
       "      <th>season</th>\n",
       "      <th>year</th>\n",
       "      <th>coincide_nombre</th>\n",
       "    </tr>\n",
       "  </thead>\n",
       "  <tbody>\n",
       "    <tr>\n",
       "      <th>0</th>\n",
       "      <td>1550</td>\n",
       "      <td>Attack No.1</td>\n",
       "      <td>TV</td>\n",
       "      <td>Drama</td>\n",
       "      <td>Sports</td>\n",
       "      <td>Manga</td>\n",
       "      <td>Tokyo Movie Shinsha</td>\n",
       "      <td>104.0</td>\n",
       "      <td>PG-13 - Teens 13 or older</td>\n",
       "      <td>7.07</td>\n",
       "      <td>...</td>\n",
       "      <td>4117.0</td>\n",
       "      <td>4124.0</td>\n",
       "      <td>9979</td>\n",
       "      <td>72</td>\n",
       "      <td>Kozue is a middleschool girl and enthusiastic ...</td>\n",
       "      <td>Finished Airing</td>\n",
       "      <td>False</td>\n",
       "      <td>winter</td>\n",
       "      <td>1970.0</td>\n",
       "      <td>True</td>\n",
       "    </tr>\n",
       "    <tr>\n",
       "      <th>1</th>\n",
       "      <td>2406</td>\n",
       "      <td>Sazae-san</td>\n",
       "      <td>TV</td>\n",
       "      <td>Comedy</td>\n",
       "      <td>Slice of Life</td>\n",
       "      <td>4-koma manga</td>\n",
       "      <td>Eiken</td>\n",
       "      <td>NaN</td>\n",
       "      <td>G - All Ages</td>\n",
       "      <td>6.14</td>\n",
       "      <td>...</td>\n",
       "      <td>1869.0</td>\n",
       "      <td>9126.0</td>\n",
       "      <td>8403</td>\n",
       "      <td>38</td>\n",
       "      <td>The main character is a mother named Sazae-san...</td>\n",
       "      <td>Currently Airing</td>\n",
       "      <td>True</td>\n",
       "      <td>fall</td>\n",
       "      <td>1969.0</td>\n",
       "      <td>True</td>\n",
       "    </tr>\n",
       "    <tr>\n",
       "      <th>2</th>\n",
       "      <td>9895</td>\n",
       "      <td>The Bathroom</td>\n",
       "      <td>Movie</td>\n",
       "      <td>Avant Garde</td>\n",
       "      <td>Comedy</td>\n",
       "      <td>Original</td>\n",
       "      <td>Kuri Jikken Manga Koubou</td>\n",
       "      <td>1.0</td>\n",
       "      <td>R - 17+ (violence &amp; profanity)</td>\n",
       "      <td>4.22</td>\n",
       "      <td>...</td>\n",
       "      <td>1003.0</td>\n",
       "      <td>13223.0</td>\n",
       "      <td>1779</td>\n",
       "      <td>0</td>\n",
       "      <td>A surrealistic short from minimalist cartoonis...</td>\n",
       "      <td>NaN</td>\n",
       "      <td>NaN</td>\n",
       "      <td>NaN</td>\n",
       "      <td>NaN</td>\n",
       "      <td>True</td>\n",
       "    </tr>\n",
       "    <tr>\n",
       "      <th>3</th>\n",
       "      <td>9163</td>\n",
       "      <td>Attack No.1 (1970)</td>\n",
       "      <td>Movie</td>\n",
       "      <td>Drama</td>\n",
       "      <td>Sports</td>\n",
       "      <td>Unknown</td>\n",
       "      <td>NaN</td>\n",
       "      <td>1.0</td>\n",
       "      <td>PG-13 - Teens 13 or older</td>\n",
       "      <td>6.39</td>\n",
       "      <td>...</td>\n",
       "      <td>444.0</td>\n",
       "      <td>7795.0</td>\n",
       "      <td>1410</td>\n",
       "      <td>3</td>\n",
       "      <td>The first recap film of Attack No.1 , it cover...</td>\n",
       "      <td>NaN</td>\n",
       "      <td>NaN</td>\n",
       "      <td>NaN</td>\n",
       "      <td>NaN</td>\n",
       "      <td>True</td>\n",
       "    </tr>\n",
       "    <tr>\n",
       "      <th>4</th>\n",
       "      <td>7259</td>\n",
       "      <td>Kenju Giga</td>\n",
       "      <td>Movie</td>\n",
       "      <td>NaN</td>\n",
       "      <td>NaN</td>\n",
       "      <td>Original</td>\n",
       "      <td>NaN</td>\n",
       "      <td>1.0</td>\n",
       "      <td>PG-13 - Teens 13 or older</td>\n",
       "      <td>4.92</td>\n",
       "      <td>...</td>\n",
       "      <td>595.0</td>\n",
       "      <td>12800.0</td>\n",
       "      <td>1206</td>\n",
       "      <td>0</td>\n",
       "      <td>A dog race is interrupted by a ringmaster, who...</td>\n",
       "      <td>Finished Airing</td>\n",
       "      <td>False</td>\n",
       "      <td>NaN</td>\n",
       "      <td>NaN</td>\n",
       "      <td>True</td>\n",
       "    </tr>\n",
       "  </tbody>\n",
       "</table>\n",
       "<p>5 rows × 21 columns</p>\n",
       "</div>"
      ],
      "text/plain": [
       "   mal_id              titles   type      genre_1        genre_2  \\\n",
       "0    1550         Attack No.1     TV        Drama         Sports   \n",
       "1    2406           Sazae-san     TV       Comedy  Slice of Life   \n",
       "2    9895        The Bathroom  Movie  Avant Garde         Comedy   \n",
       "3    9163  Attack No.1 (1970)  Movie        Drama         Sports   \n",
       "4    7259          Kenju Giga  Movie          NaN            NaN   \n",
       "\n",
       "         source                   studios  episodes  \\\n",
       "0         Manga       Tokyo Movie Shinsha     104.0   \n",
       "1  4-koma manga                     Eiken       NaN   \n",
       "2      Original  Kuri Jikken Manga Koubou       1.0   \n",
       "3       Unknown                       NaN       1.0   \n",
       "4      Original                       NaN       1.0   \n",
       "\n",
       "                           rating  score  ...  scored_by     rank  members  \\\n",
       "0       PG-13 - Teens 13 or older   7.07  ...     4117.0   4124.0     9979   \n",
       "1                    G - All Ages   6.14  ...     1869.0   9126.0     8403   \n",
       "2  R - 17+ (violence & profanity)   4.22  ...     1003.0  13223.0     1779   \n",
       "3       PG-13 - Teens 13 or older   6.39  ...      444.0   7795.0     1410   \n",
       "4       PG-13 - Teens 13 or older   4.92  ...      595.0  12800.0     1206   \n",
       "\n",
       "   favorites                                           synopsis  \\\n",
       "0         72  Kozue is a middleschool girl and enthusiastic ...   \n",
       "1         38  The main character is a mother named Sazae-san...   \n",
       "2          0  A surrealistic short from minimalist cartoonis...   \n",
       "3          3  The first recap film of Attack No.1 , it cover...   \n",
       "4          0  A dog race is interrupted by a ringmaster, who...   \n",
       "\n",
       "             status airing  season    year  coincide_nombre  \n",
       "0   Finished Airing  False  winter  1970.0             True  \n",
       "1  Currently Airing   True    fall  1969.0             True  \n",
       "2               NaN    NaN     NaN     NaN             True  \n",
       "3               NaN    NaN     NaN     NaN             True  \n",
       "4   Finished Airing  False     NaN     NaN             True  \n",
       "\n",
       "[5 rows x 21 columns]"
      ]
     },
     "execution_count": 300,
     "metadata": {},
     "output_type": "execute_result"
    }
   ],
   "source": [
    "df_2024.head()"
   ]
  },
  {
   "cell_type": "code",
   "execution_count": 301,
   "id": "638d4529",
   "metadata": {},
   "outputs": [
    {
     "data": {
      "text/plain": [
       "Index(['mal_id', 'titles', 'type', 'genre_1', 'genre_2', 'source', 'studios',\n",
       "       'episodes', 'rating', 'score', 'audicence_rank', 'scored_by', 'rank',\n",
       "       'members', 'favorites', 'synopsis', 'status', 'airing', 'season',\n",
       "       'year', 'coincide_nombre'],\n",
       "      dtype='object')"
      ]
     },
     "execution_count": 301,
     "metadata": {},
     "output_type": "execute_result"
    }
   ],
   "source": [
    "df_2024.columns\n",
    "#La columnas ya estan limpias porque las limpié en el anterior para poder hacer bien la busqueda de información y el merge."
   ]
  },
  {
   "cell_type": "code",
   "execution_count": 302,
   "id": "a0b7800b",
   "metadata": {},
   "outputs": [],
   "source": [
    "df_2024 = df_2024.drop(['members','favorites'],axis=1)"
   ]
  },
  {
   "cell_type": "code",
   "execution_count": 303,
   "id": "548bf6ab",
   "metadata": {},
   "outputs": [
    {
     "data": {
      "text/plain": [
       "(5056, 19)"
      ]
     },
     "execution_count": 303,
     "metadata": {},
     "output_type": "execute_result"
    }
   ],
   "source": [
    "df_2024.shape"
   ]
  },
  {
   "cell_type": "code",
   "execution_count": 304,
   "id": "cb75e865",
   "metadata": {},
   "outputs": [
    {
     "name": "stdout",
     "output_type": "stream",
     "text": [
      "<class 'pandas.core.frame.DataFrame'>\n",
      "RangeIndex: 5056 entries, 0 to 5055\n",
      "Data columns (total 19 columns):\n",
      " #   Column           Non-Null Count  Dtype  \n",
      "---  ------           --------------  -----  \n",
      " 0   mal_id           5056 non-null   int64  \n",
      " 1   titles           5056 non-null   object \n",
      " 2   type             5055 non-null   object \n",
      " 3   genre_1          4811 non-null   object \n",
      " 4   genre_2          3949 non-null   object \n",
      " 5   source           5056 non-null   object \n",
      " 6   studios          4544 non-null   object \n",
      " 7   episodes         4539 non-null   float64\n",
      " 8   rating           5022 non-null   object \n",
      " 9   score            4817 non-null   float64\n",
      " 10  audicence_rank   5056 non-null   int64  \n",
      " 11  scored_by        4817 non-null   float64\n",
      " 12  rank             4786 non-null   float64\n",
      " 13  synopsis         5009 non-null   object \n",
      " 14  status           3121 non-null   object \n",
      " 15  airing           3121 non-null   object \n",
      " 16  season           1727 non-null   object \n",
      " 17  year             1727 non-null   float64\n",
      " 18  coincide_nombre  5056 non-null   bool   \n",
      "dtypes: bool(1), float64(5), int64(2), object(11)\n",
      "memory usage: 716.1+ KB\n"
     ]
    }
   ],
   "source": [
    "df_2024.info()"
   ]
  },
  {
   "cell_type": "code",
   "execution_count": 305,
   "id": "1397fc08",
   "metadata": {},
   "outputs": [
    {
     "data": {
      "text/html": [
       "<div>\n",
       "<style scoped>\n",
       "    .dataframe tbody tr th:only-of-type {\n",
       "        vertical-align: middle;\n",
       "    }\n",
       "\n",
       "    .dataframe tbody tr th {\n",
       "        vertical-align: top;\n",
       "    }\n",
       "\n",
       "    .dataframe thead th {\n",
       "        text-align: right;\n",
       "    }\n",
       "</style>\n",
       "<table border=\"1\" class=\"dataframe\">\n",
       "  <thead>\n",
       "    <tr style=\"text-align: right;\">\n",
       "      <th></th>\n",
       "      <th>count</th>\n",
       "      <th>mean</th>\n",
       "      <th>std</th>\n",
       "      <th>min</th>\n",
       "      <th>25%</th>\n",
       "      <th>50%</th>\n",
       "      <th>75%</th>\n",
       "      <th>max</th>\n",
       "    </tr>\n",
       "  </thead>\n",
       "  <tbody>\n",
       "    <tr>\n",
       "      <th>mal_id</th>\n",
       "      <td>5056.0</td>\n",
       "      <td>13436.020372</td>\n",
       "      <td>16425.207730</td>\n",
       "      <td>1.0</td>\n",
       "      <td>1427.50</td>\n",
       "      <td>4526.00</td>\n",
       "      <td>23347.50</td>\n",
       "      <td>58391.00</td>\n",
       "    </tr>\n",
       "    <tr>\n",
       "      <th>episodes</th>\n",
       "      <td>4539.0</td>\n",
       "      <td>18.509363</td>\n",
       "      <td>62.329765</td>\n",
       "      <td>1.0</td>\n",
       "      <td>1.00</td>\n",
       "      <td>12.00</td>\n",
       "      <td>23.00</td>\n",
       "      <td>1787.00</td>\n",
       "    </tr>\n",
       "    <tr>\n",
       "      <th>score</th>\n",
       "      <td>4817.0</td>\n",
       "      <td>7.029498</td>\n",
       "      <td>0.931790</td>\n",
       "      <td>2.0</td>\n",
       "      <td>6.46</td>\n",
       "      <td>7.11</td>\n",
       "      <td>7.67</td>\n",
       "      <td>9.38</td>\n",
       "    </tr>\n",
       "    <tr>\n",
       "      <th>audicence_rank</th>\n",
       "      <td>5056.0</td>\n",
       "      <td>5827.900514</td>\n",
       "      <td>5668.755969</td>\n",
       "      <td>1.0</td>\n",
       "      <td>1049.75</td>\n",
       "      <td>3843.00</td>\n",
       "      <td>9501.50</td>\n",
       "      <td>26508.00</td>\n",
       "    </tr>\n",
       "    <tr>\n",
       "      <th>scored_by</th>\n",
       "      <td>4817.0</td>\n",
       "      <td>122923.990450</td>\n",
       "      <td>274915.307253</td>\n",
       "      <td>105.0</td>\n",
       "      <td>1723.00</td>\n",
       "      <td>17975.00</td>\n",
       "      <td>118269.00</td>\n",
       "      <td>2795232.00</td>\n",
       "    </tr>\n",
       "    <tr>\n",
       "      <th>rank</th>\n",
       "      <td>4786.0</td>\n",
       "      <td>4862.653155</td>\n",
       "      <td>4240.655440</td>\n",
       "      <td>1.0</td>\n",
       "      <td>1320.00</td>\n",
       "      <td>3877.50</td>\n",
       "      <td>7454.00</td>\n",
       "      <td>20609.00</td>\n",
       "    </tr>\n",
       "    <tr>\n",
       "      <th>year</th>\n",
       "      <td>1727.0</td>\n",
       "      <td>1993.484655</td>\n",
       "      <td>11.931859</td>\n",
       "      <td>1969.0</td>\n",
       "      <td>1986.00</td>\n",
       "      <td>1996.00</td>\n",
       "      <td>2003.00</td>\n",
       "      <td>2011.00</td>\n",
       "    </tr>\n",
       "  </tbody>\n",
       "</table>\n",
       "</div>"
      ],
      "text/plain": [
       "                 count           mean            std     min      25%  \\\n",
       "mal_id          5056.0   13436.020372   16425.207730     1.0  1427.50   \n",
       "episodes        4539.0      18.509363      62.329765     1.0     1.00   \n",
       "score           4817.0       7.029498       0.931790     2.0     6.46   \n",
       "audicence_rank  5056.0    5827.900514    5668.755969     1.0  1049.75   \n",
       "scored_by       4817.0  122923.990450  274915.307253   105.0  1723.00   \n",
       "rank            4786.0    4862.653155    4240.655440     1.0  1320.00   \n",
       "year            1727.0    1993.484655      11.931859  1969.0  1986.00   \n",
       "\n",
       "                     50%        75%         max  \n",
       "mal_id           4526.00   23347.50    58391.00  \n",
       "episodes           12.00      23.00     1787.00  \n",
       "score               7.11       7.67        9.38  \n",
       "audicence_rank   3843.00    9501.50    26508.00  \n",
       "scored_by       17975.00  118269.00  2795232.00  \n",
       "rank             3877.50    7454.00    20609.00  \n",
       "year             1996.00    2003.00     2011.00  "
      ]
     },
     "execution_count": 305,
     "metadata": {},
     "output_type": "execute_result"
    }
   ],
   "source": [
    "df_2024.describe().T"
   ]
  },
  {
   "cell_type": "code",
   "execution_count": 306,
   "id": "51dc0630",
   "metadata": {},
   "outputs": [
    {
     "data": {
      "text/html": [
       "<div>\n",
       "<style scoped>\n",
       "    .dataframe tbody tr th:only-of-type {\n",
       "        vertical-align: middle;\n",
       "    }\n",
       "\n",
       "    .dataframe tbody tr th {\n",
       "        vertical-align: top;\n",
       "    }\n",
       "\n",
       "    .dataframe thead th {\n",
       "        text-align: right;\n",
       "    }\n",
       "</style>\n",
       "<table border=\"1\" class=\"dataframe\">\n",
       "  <thead>\n",
       "    <tr style=\"text-align: right;\">\n",
       "      <th></th>\n",
       "      <th>count</th>\n",
       "      <th>unique</th>\n",
       "      <th>top</th>\n",
       "      <th>freq</th>\n",
       "    </tr>\n",
       "  </thead>\n",
       "  <tbody>\n",
       "    <tr>\n",
       "      <th>titles</th>\n",
       "      <td>5056</td>\n",
       "      <td>4516</td>\n",
       "      <td>Sazae-san</td>\n",
       "      <td>126</td>\n",
       "    </tr>\n",
       "    <tr>\n",
       "      <th>type</th>\n",
       "      <td>5055</td>\n",
       "      <td>8</td>\n",
       "      <td>TV</td>\n",
       "      <td>2861</td>\n",
       "    </tr>\n",
       "    <tr>\n",
       "      <th>genre_1</th>\n",
       "      <td>4811</td>\n",
       "      <td>21</td>\n",
       "      <td>Action</td>\n",
       "      <td>1814</td>\n",
       "    </tr>\n",
       "    <tr>\n",
       "      <th>genre_2</th>\n",
       "      <td>3949</td>\n",
       "      <td>20</td>\n",
       "      <td>Adventure</td>\n",
       "      <td>769</td>\n",
       "    </tr>\n",
       "    <tr>\n",
       "      <th>source</th>\n",
       "      <td>5056</td>\n",
       "      <td>17</td>\n",
       "      <td>Manga</td>\n",
       "      <td>2147</td>\n",
       "    </tr>\n",
       "    <tr>\n",
       "      <th>studios</th>\n",
       "      <td>4544</td>\n",
       "      <td>338</td>\n",
       "      <td>Toei Animation</td>\n",
       "      <td>487</td>\n",
       "    </tr>\n",
       "    <tr>\n",
       "      <th>rating</th>\n",
       "      <td>5022</td>\n",
       "      <td>6</td>\n",
       "      <td>PG-13 - Teens 13 or older</td>\n",
       "      <td>2444</td>\n",
       "    </tr>\n",
       "    <tr>\n",
       "      <th>synopsis</th>\n",
       "      <td>5009</td>\n",
       "      <td>4442</td>\n",
       "      <td>The main character is a mother named Sazae-san...</td>\n",
       "      <td>126</td>\n",
       "    </tr>\n",
       "    <tr>\n",
       "      <th>status</th>\n",
       "      <td>3121</td>\n",
       "      <td>2</td>\n",
       "      <td>Finished Airing</td>\n",
       "      <td>2616</td>\n",
       "    </tr>\n",
       "    <tr>\n",
       "      <th>airing</th>\n",
       "      <td>3121</td>\n",
       "      <td>2</td>\n",
       "      <td>False</td>\n",
       "      <td>2616</td>\n",
       "    </tr>\n",
       "    <tr>\n",
       "      <th>season</th>\n",
       "      <td>1727</td>\n",
       "      <td>4</td>\n",
       "      <td>fall</td>\n",
       "      <td>665</td>\n",
       "    </tr>\n",
       "  </tbody>\n",
       "</table>\n",
       "</div>"
      ],
      "text/plain": [
       "         count unique                                                top  freq\n",
       "titles    5056   4516                                          Sazae-san   126\n",
       "type      5055      8                                                 TV  2861\n",
       "genre_1   4811     21                                             Action  1814\n",
       "genre_2   3949     20                                          Adventure   769\n",
       "source    5056     17                                              Manga  2147\n",
       "studios   4544    338                                     Toei Animation   487\n",
       "rating    5022      6                          PG-13 - Teens 13 or older  2444\n",
       "synopsis  5009   4442  The main character is a mother named Sazae-san...   126\n",
       "status    3121      2                                    Finished Airing  2616\n",
       "airing    3121      2                                              False  2616\n",
       "season    1727      4                                               fall   665"
      ]
     },
     "execution_count": 306,
     "metadata": {},
     "output_type": "execute_result"
    }
   ],
   "source": [
    "df_2024.describe(include='object').T"
   ]
  },
  {
   "cell_type": "code",
   "execution_count": 307,
   "id": "ef383a91",
   "metadata": {},
   "outputs": [
    {
     "data": {
      "text/plain": [
       "mal_id               int64\n",
       "titles              object\n",
       "type                object\n",
       "genre_1             object\n",
       "genre_2             object\n",
       "source              object\n",
       "studios             object\n",
       "episodes           float64\n",
       "rating              object\n",
       "score              float64\n",
       "audicence_rank       int64\n",
       "scored_by          float64\n",
       "rank               float64\n",
       "synopsis            object\n",
       "status              object\n",
       "airing              object\n",
       "season              object\n",
       "year               float64\n",
       "coincide_nombre       bool\n",
       "dtype: object"
      ]
     },
     "execution_count": 307,
     "metadata": {},
     "output_type": "execute_result"
    }
   ],
   "source": [
    "df_2024.dtypes"
   ]
  },
  {
   "cell_type": "code",
   "execution_count": 308,
   "id": "1d497a19",
   "metadata": {},
   "outputs": [
    {
     "data": {
      "text/plain": [
       "mal_id             4516\n",
       "titles             4516\n",
       "type                  8\n",
       "genre_1              21\n",
       "genre_2              20\n",
       "source               17\n",
       "studios             338\n",
       "episodes            160\n",
       "rating                6\n",
       "score               472\n",
       "audicence_rank     4358\n",
       "scored_by          3822\n",
       "rank               3844\n",
       "synopsis           4442\n",
       "status                2\n",
       "airing                2\n",
       "season                4\n",
       "year                 43\n",
       "coincide_nombre       2\n",
       "dtype: int64"
      ]
     },
     "execution_count": 308,
     "metadata": {},
     "output_type": "execute_result"
    }
   ],
   "source": [
    "df_2024.nunique()"
   ]
  },
  {
   "cell_type": "code",
   "execution_count": 309,
   "id": "cda175e7",
   "metadata": {},
   "outputs": [
    {
     "data": {
      "text/plain": [
       "540"
      ]
     },
     "execution_count": 309,
     "metadata": {},
     "output_type": "execute_result"
    }
   ],
   "source": [
    "#mal_id pone que hay 4516 unicos, significa que hay animes repetidos.\n",
    "df_2024.duplicated().sum()"
   ]
  },
  {
   "cell_type": "code",
   "execution_count": 310,
   "id": "9451b181",
   "metadata": {},
   "outputs": [],
   "source": [
    "df_2024 = df_2024.drop_duplicates(keep='first')"
   ]
  },
  {
   "cell_type": "code",
   "execution_count": 311,
   "id": "f1029755",
   "metadata": {},
   "outputs": [
    {
     "data": {
      "text/plain": [
       "array(['Manga', '4-koma manga', 'Original', 'Unknown', 'Novel',\n",
       "       'Picture book', 'Music', 'Other', 'Book', 'Radio', 'Light novel',\n",
       "       'Game', 'Mixed media', 'Visual novel', 'Card game', 'Web manga',\n",
       "       'Web novel'], dtype=object)"
      ]
     },
     "execution_count": 311,
     "metadata": {},
     "output_type": "execute_result"
    }
   ],
   "source": [
    "df_2024['source'].unique()"
   ]
  },
  {
   "cell_type": "code",
   "execution_count": 312,
   "id": "9963c576",
   "metadata": {},
   "outputs": [
    {
     "data": {
      "text/plain": [
       "array(['Manga', 'Original', 'Unknown', 'Novel', 'Picture book', 'Music',\n",
       "       'Other', 'Book', 'Radio', 'Light novel', 'Game', 'Mixed media',\n",
       "       'Visual novel', 'Card game'], dtype=object)"
      ]
     },
     "execution_count": 312,
     "metadata": {},
     "output_type": "execute_result"
    }
   ],
   "source": [
    "sustitucion = {\n",
    "    '4-koma manga':'Manga',\n",
    "    'Web manga':'Manga',\n",
    "    'Web novel':'Novel',\n",
    "    }\n",
    "df_2024['source'] = df_2024['source'].replace(sustitucion)\n",
    "df_2024['source'].unique()"
   ]
  },
  {
   "cell_type": "code",
   "execution_count": 313,
   "id": "4fc64aa4",
   "metadata": {},
   "outputs": [
    {
     "data": {
      "text/plain": [
       "array([False, True, nan], dtype=object)"
      ]
     },
     "execution_count": 313,
     "metadata": {},
     "output_type": "execute_result"
    }
   ],
   "source": [
    "#Es lo mismo que status\n",
    "df_2024['airing'].unique()"
   ]
  },
  {
   "cell_type": "code",
   "execution_count": 314,
   "id": "66920675",
   "metadata": {},
   "outputs": [],
   "source": [
    "df_2024 = df_2024.drop('airing',axis=1)"
   ]
  },
  {
   "cell_type": "code",
   "execution_count": 315,
   "id": "33e7a135",
   "metadata": {},
   "outputs": [
    {
     "data": {
      "text/plain": [
       "array(['Teens or older', 'All Ages', '17+', 'Children', 'Mild Nudity',\n",
       "       nan, '+18'], dtype=object)"
      ]
     },
     "execution_count": 315,
     "metadata": {},
     "output_type": "execute_result"
    }
   ],
   "source": [
    "sustitucion1 = {\n",
    "    'PG-13 - Teens 13 or older':'Teens or older',\n",
    "    'G - All Ages':'All Ages',\n",
    "    'R - 17+ (violence & profanity)':'17+',\n",
    "    'PG - Children':'Children',\n",
    "    'R+ - Mild Nudity':'Mild Nudity',\n",
    "    'Rx - Hentai':'+18'\n",
    "    }\n",
    "df_2024['rating'] = df_2024['rating'].replace(sustitucion1)\n",
    "df_2024['rating'].unique()"
   ]
  },
  {
   "cell_type": "code",
   "execution_count": 316,
   "id": "4c484e20",
   "metadata": {},
   "outputs": [
    {
     "data": {
      "text/plain": [
       "73"
      ]
     },
     "execution_count": 316,
     "metadata": {},
     "output_type": "execute_result"
    }
   ],
   "source": [
    "#Puede ser que sea por que son temporadas distintas de ciertos animes pero les dan la misma sinopsis, vamos a ver.\n",
    "df_2024['synopsis'].duplicated().sum()"
   ]
  },
  {
   "cell_type": "code",
   "execution_count": null,
   "id": "c8c0c071",
   "metadata": {},
   "outputs": [],
   "source": [
    "duplicados = df_2024[df_2024['synopsis'].duplicated(keep=False)]\n",
    "duplicados[['mal_id', 'titles', 'synopsis']].head(88)\n",
    "#Vale es lo que pensaba, es por segundas temporadas o por falta de sinopsis solo ponen el autor..."
   ]
  },
  {
   "cell_type": "code",
   "execution_count": 317,
   "id": "38259af2",
   "metadata": {},
   "outputs": [
    {
     "data": {
      "text/plain": [
       "mal_id                0\n",
       "titles                0\n",
       "type                  1\n",
       "genre_1             245\n",
       "genre_2            1057\n",
       "source                0\n",
       "studios             512\n",
       "episodes             17\n",
       "rating               34\n",
       "score               239\n",
       "audicence_rank        0\n",
       "scored_by           239\n",
       "rank                270\n",
       "synopsis             47\n",
       "status             1892\n",
       "season             3286\n",
       "year               3286\n",
       "coincide_nombre       0\n",
       "dtype: int64"
      ]
     },
     "execution_count": 317,
     "metadata": {},
     "output_type": "execute_result"
    }
   ],
   "source": [
    "df_2024.isna().sum()"
   ]
  },
  {
   "cell_type": "code",
   "execution_count": 318,
   "id": "0a6586d6",
   "metadata": {},
   "outputs": [],
   "source": [
    "#No me interesan las rows que no tienen score\n",
    "df_2024 = df_2024.dropna(subset=['score'])"
   ]
  },
  {
   "cell_type": "code",
   "execution_count": 319,
   "id": "b11d7eab",
   "metadata": {},
   "outputs": [],
   "source": [
    "#Tampoco las que no tienen rank\n",
    "df_2024 = df_2024.dropna(subset=['rank'])"
   ]
  },
  {
   "cell_type": "code",
   "execution_count": 320,
   "id": "489be7e6",
   "metadata": {},
   "outputs": [
    {
     "data": {
      "text/plain": [
       "0    1998\n",
       "1    2001\n",
       "2    1998\n",
       "3    2002\n",
       "4    2004\n",
       "Name: aired_year, dtype: object"
      ]
     },
     "execution_count": 320,
     "metadata": {},
     "output_type": "execute_result"
    }
   ],
   "source": [
    "#Me faltan muchos en año asi que voy a utilizar los años que vienen en el otro pos si puedo rellenar algunas, el resto iran como unknown.\n",
    "df_2019['aired_year'] = df_2019[' aired'].astype(str).str.extract(r'(\\d{4})')\n",
    "df_2019['aired_year'].head()"
   ]
  },
  {
   "cell_type": "code",
   "execution_count": 321,
   "id": "744cacb7",
   "metadata": {},
   "outputs": [],
   "source": [
    "#Había que limpiarlos primero y aqui los meto.\n",
    "id_to_year = df_2019.set_index('animeID')['aired_year']\n",
    "df_2024['year'] = df_2024['year'].fillna(df_2024['mal_id'].map(id_to_year))"
   ]
  },
  {
   "cell_type": "code",
   "execution_count": 322,
   "id": "25ec7f13",
   "metadata": {},
   "outputs": [],
   "source": [
    "def extraer_estacion(aired_str):\n",
    "    try:\n",
    "        aired_dict = ast.literal_eval(aired_str)\n",
    "        from_date = aired_dict.get('from')\n",
    "        if from_date:\n",
    "            mes = int(from_date[5:7])\n",
    "            if mes in [12, 1, 2]:\n",
    "                return 'winter'\n",
    "            elif mes in [3, 4, 5]:\n",
    "                return 'spring'\n",
    "            elif mes in [6, 7, 8]:\n",
    "                return 'summer'\n",
    "            elif mes in [9, 10, 11]:\n",
    "                return 'fall'\n",
    "    except:\n",
    "        return np.nan\n",
    "    return np.nan\n"
   ]
  },
  {
   "cell_type": "code",
   "execution_count": 323,
   "id": "fbbe8ce7",
   "metadata": {},
   "outputs": [],
   "source": [
    "#Voy a hacer lo mismo con estas, pero necesito la funcion para colocar el mes en distintas estaciones.\n",
    "df_2019['aired_season'] = df_2019[' aired'].apply(extraer_estacion)"
   ]
  },
  {
   "cell_type": "code",
   "execution_count": 324,
   "id": "96864d09",
   "metadata": {},
   "outputs": [],
   "source": [
    "id_to_season = df_2019.set_index('animeID')['aired_season'].to_dict()"
   ]
  },
  {
   "cell_type": "code",
   "execution_count": 325,
   "id": "afbd1a90",
   "metadata": {},
   "outputs": [],
   "source": [
    "df_2024['season'] = df_2024.apply(lambda row: id_to_season.get(row['mal_id']) if pd.isna(row['season']) else row['season'], axis=1)"
   ]
  },
  {
   "cell_type": "code",
   "execution_count": 326,
   "id": "26f1e87c",
   "metadata": {},
   "outputs": [],
   "source": [
    "#Quitamos ya la synopsis, solo la necesitaba para ver si gracias a ellas conseguia identificar nulos.\n",
    "df_2024 = df_2024.drop('synopsis', axis=1)"
   ]
  },
  {
   "cell_type": "code",
   "execution_count": 327,
   "id": "dcc8044a",
   "metadata": {},
   "outputs": [],
   "source": [
    "#He solucionado los que podia solucionar con información del otro data frame, el resto unknown.\n",
    "# Para columnas de texto.\n",
    "for col in ['genre_1', 'genre_2', 'studios', 'rating', 'status', 'season', 'type']:\n",
    "    df_2024[col] = df_2024[col].fillna('Unknown')\n",
    "\n",
    "# Para columnas numéricas.\n",
    "for col in ['episodes', 'year']:\n",
    "    df_2024[col] = df_2024[col].fillna(-1)"
   ]
  },
  {
   "cell_type": "code",
   "execution_count": 328,
   "id": "2303d819",
   "metadata": {},
   "outputs": [
    {
     "data": {
      "text/plain": [
       "mal_id             0\n",
       "titles             0\n",
       "type               0\n",
       "genre_1            0\n",
       "genre_2            0\n",
       "source             0\n",
       "studios            0\n",
       "episodes           0\n",
       "rating             0\n",
       "score              0\n",
       "audicence_rank     0\n",
       "scored_by          0\n",
       "rank               0\n",
       "status             0\n",
       "season             0\n",
       "year               0\n",
       "coincide_nombre    0\n",
       "dtype: int64"
      ]
     },
     "execution_count": 328,
     "metadata": {},
     "output_type": "execute_result"
    }
   ],
   "source": [
    "df_2024.isna().sum()"
   ]
  },
  {
   "cell_type": "code",
   "execution_count": 329,
   "id": "d31bcc50",
   "metadata": {},
   "outputs": [
    {
     "data": {
      "text/plain": [
       "mal_id               int64\n",
       "titles              object\n",
       "type                object\n",
       "genre_1             object\n",
       "genre_2             object\n",
       "source              object\n",
       "studios             object\n",
       "episodes           float64\n",
       "rating              object\n",
       "score              float64\n",
       "audicence_rank       int64\n",
       "scored_by          float64\n",
       "rank               float64\n",
       "status              object\n",
       "season              object\n",
       "year                object\n",
       "coincide_nombre       bool\n",
       "dtype: object"
      ]
     },
     "execution_count": 329,
     "metadata": {},
     "output_type": "execute_result"
    }
   ],
   "source": [
    "df_2024.dtypes"
   ]
  },
  {
   "cell_type": "code",
   "execution_count": 330,
   "id": "8ef8da1f",
   "metadata": {},
   "outputs": [],
   "source": [
    "#Despues de quitar los nulos ya puedo convertir los float a int sin problema.\n",
    "cols_to_convert = ['episodes', 'audicence_rank', 'scored_by', 'rank']\n",
    "df_2024[cols_to_convert] = df_2024[cols_to_convert].astype(int)"
   ]
  },
  {
   "cell_type": "code",
   "execution_count": 331,
   "id": "a55468d1",
   "metadata": {},
   "outputs": [],
   "source": [
    "#Después de rellenarlo con los strings de el otro data set también puedo ya convertirlo a int sin problema.\n",
    "df_2024['year'] = df_2024['year'].astype(int)"
   ]
  },
  {
   "cell_type": "code",
   "execution_count": 332,
   "id": "cc26fe0b",
   "metadata": {},
   "outputs": [
    {
     "data": {
      "text/plain": [
       "mal_id               int64\n",
       "titles              object\n",
       "type                object\n",
       "genre_1             object\n",
       "genre_2             object\n",
       "source              object\n",
       "studios             object\n",
       "episodes             int32\n",
       "rating              object\n",
       "score              float64\n",
       "audicence_rank       int32\n",
       "scored_by            int32\n",
       "rank                 int32\n",
       "status              object\n",
       "season              object\n",
       "year                 int32\n",
       "coincide_nombre       bool\n",
       "dtype: object"
      ]
     },
     "execution_count": 332,
     "metadata": {},
     "output_type": "execute_result"
    }
   ],
   "source": [
    "df_2024.dtypes"
   ]
  },
  {
   "cell_type": "code",
   "execution_count": 333,
   "id": "18e39e7c",
   "metadata": {},
   "outputs": [],
   "source": [
    "#Limpito!!"
   ]
  },
  {
   "cell_type": "markdown",
   "id": "92b7fb03",
   "metadata": {},
   "source": [
    "### Inspección y Limpieza 2019"
   ]
  },
  {
   "cell_type": "code",
   "execution_count": 334,
   "id": "2a3fc5d7",
   "metadata": {},
   "outputs": [
    {
     "data": {
      "text/plain": [
       "Index(['animeID', ' name', ' title_english', ' title_japanese',\n",
       "       ' title_synonyms', ' type', ' source', ' producers', ' genre',\n",
       "       ' studio', ' episodes', ' status', ' airing', ' aired', ' duration',\n",
       "       ' rating', ' score', ' scored_by', ' rank', ' popularity', ' members',\n",
       "       ' favorites', ' synopsis', ' background', ' premiered', ' broadcast',\n",
       "       ' related', 'aired_year', 'aired_season'],\n",
       "      dtype='object')"
      ]
     },
     "execution_count": 334,
     "metadata": {},
     "output_type": "execute_result"
    }
   ],
   "source": [
    "df_2019.columns"
   ]
  },
  {
   "cell_type": "code",
   "execution_count": 336,
   "id": "3434fb59",
   "metadata": {},
   "outputs": [],
   "source": [
    "#Voy a empezar con las columnas ya que este dataframe solo lo necesito para compararlo con el otro, no necesito más informacion adicional.\n",
    "df_2019.drop([' title_english', ' title_japanese',\n",
    "       ' title_synonyms', ' type', ' source', ' producers', ' genre',\n",
    "       ' studio', ' episodes', ' status', ' airing', ' aired', ' duration',\n",
    "       ' members', ' favorites', ' synopsis', ' background', ' premiered', ' broadcast',\n",
    "       ' related', 'aired_year', 'aired_season',' rating'], axis=1, inplace=True)"
   ]
  },
  {
   "cell_type": "code",
   "execution_count": 337,
   "id": "3983d3d9",
   "metadata": {},
   "outputs": [
    {
     "data": {
      "text/html": [
       "<div>\n",
       "<style scoped>\n",
       "    .dataframe tbody tr th:only-of-type {\n",
       "        vertical-align: middle;\n",
       "    }\n",
       "\n",
       "    .dataframe tbody tr th {\n",
       "        vertical-align: top;\n",
       "    }\n",
       "\n",
       "    .dataframe thead th {\n",
       "        text-align: right;\n",
       "    }\n",
       "</style>\n",
       "<table border=\"1\" class=\"dataframe\">\n",
       "  <thead>\n",
       "    <tr style=\"text-align: right;\">\n",
       "      <th></th>\n",
       "      <th>animeID</th>\n",
       "      <th>name</th>\n",
       "      <th>score</th>\n",
       "      <th>scored_by</th>\n",
       "      <th>rank</th>\n",
       "      <th>popularity</th>\n",
       "    </tr>\n",
       "  </thead>\n",
       "  <tbody>\n",
       "    <tr>\n",
       "      <th>0</th>\n",
       "      <td>1</td>\n",
       "      <td>Cowboy Bebop</td>\n",
       "      <td>8.81</td>\n",
       "      <td>405664.0</td>\n",
       "      <td>26.0</td>\n",
       "      <td>39.0</td>\n",
       "    </tr>\n",
       "    <tr>\n",
       "      <th>1</th>\n",
       "      <td>5</td>\n",
       "      <td>Cowboy Bebop: Tengoku no Tobira</td>\n",
       "      <td>8.41</td>\n",
       "      <td>120243.0</td>\n",
       "      <td>164.0</td>\n",
       "      <td>449.0</td>\n",
       "    </tr>\n",
       "    <tr>\n",
       "      <th>2</th>\n",
       "      <td>6</td>\n",
       "      <td>Trigun</td>\n",
       "      <td>8.30</td>\n",
       "      <td>212537.0</td>\n",
       "      <td>255.0</td>\n",
       "      <td>146.0</td>\n",
       "    </tr>\n",
       "    <tr>\n",
       "      <th>3</th>\n",
       "      <td>7</td>\n",
       "      <td>Witch Hunter Robin</td>\n",
       "      <td>7.33</td>\n",
       "      <td>32837.0</td>\n",
       "      <td>2371.0</td>\n",
       "      <td>1171.0</td>\n",
       "    </tr>\n",
       "    <tr>\n",
       "      <th>4</th>\n",
       "      <td>8</td>\n",
       "      <td>Bouken Ou Beet</td>\n",
       "      <td>7.03</td>\n",
       "      <td>4894.0</td>\n",
       "      <td>3544.0</td>\n",
       "      <td>3704.0</td>\n",
       "    </tr>\n",
       "  </tbody>\n",
       "</table>\n",
       "</div>"
      ],
      "text/plain": [
       "   animeID                             name   score   scored_by    rank  \\\n",
       "0        1                     Cowboy Bebop    8.81    405664.0    26.0   \n",
       "1        5  Cowboy Bebop: Tengoku no Tobira    8.41    120243.0   164.0   \n",
       "2        6                           Trigun    8.30    212537.0   255.0   \n",
       "3        7               Witch Hunter Robin    7.33     32837.0  2371.0   \n",
       "4        8                   Bouken Ou Beet    7.03      4894.0  3544.0   \n",
       "\n",
       "    popularity  \n",
       "0         39.0  \n",
       "1        449.0  \n",
       "2        146.0  \n",
       "3       1171.0  \n",
       "4       3704.0  "
      ]
     },
     "execution_count": 337,
     "metadata": {},
     "output_type": "execute_result"
    }
   ],
   "source": [
    "df_2019.head()"
   ]
  },
  {
   "cell_type": "code",
   "execution_count": 338,
   "id": "dc140921",
   "metadata": {},
   "outputs": [
    {
     "data": {
      "text/plain": [
       "(15278, 6)"
      ]
     },
     "execution_count": 338,
     "metadata": {},
     "output_type": "execute_result"
    }
   ],
   "source": [
    "df_2019.shape"
   ]
  },
  {
   "cell_type": "code",
   "execution_count": 339,
   "id": "c165df35",
   "metadata": {},
   "outputs": [
    {
     "data": {
      "text/html": [
       "<div>\n",
       "<style scoped>\n",
       "    .dataframe tbody tr th:only-of-type {\n",
       "        vertical-align: middle;\n",
       "    }\n",
       "\n",
       "    .dataframe tbody tr th {\n",
       "        vertical-align: top;\n",
       "    }\n",
       "\n",
       "    .dataframe thead th {\n",
       "        text-align: right;\n",
       "    }\n",
       "</style>\n",
       "<table border=\"1\" class=\"dataframe\">\n",
       "  <thead>\n",
       "    <tr style=\"text-align: right;\">\n",
       "      <th></th>\n",
       "      <th>count</th>\n",
       "      <th>mean</th>\n",
       "      <th>std</th>\n",
       "      <th>min</th>\n",
       "      <th>25%</th>\n",
       "      <th>50%</th>\n",
       "      <th>75%</th>\n",
       "      <th>max</th>\n",
       "    </tr>\n",
       "  </thead>\n",
       "  <tbody>\n",
       "    <tr>\n",
       "      <th>animeID</th>\n",
       "      <td>15278.0</td>\n",
       "      <td>19002.639416</td>\n",
       "      <td>13706.437012</td>\n",
       "      <td>1.0</td>\n",
       "      <td>5209.25</td>\n",
       "      <td>18308.00</td>\n",
       "      <td>33025.75</td>\n",
       "      <td>39199.0</td>\n",
       "    </tr>\n",
       "    <tr>\n",
       "      <th>score</th>\n",
       "      <td>14778.0</td>\n",
       "      <td>6.284508</td>\n",
       "      <td>1.073349</td>\n",
       "      <td>1.0</td>\n",
       "      <td>5.60</td>\n",
       "      <td>6.37</td>\n",
       "      <td>7.05</td>\n",
       "      <td>10.0</td>\n",
       "    </tr>\n",
       "    <tr>\n",
       "      <th>scored_by</th>\n",
       "      <td>15273.0</td>\n",
       "      <td>12107.014601</td>\n",
       "      <td>46929.422586</td>\n",
       "      <td>0.0</td>\n",
       "      <td>47.00</td>\n",
       "      <td>470.00</td>\n",
       "      <td>3857.00</td>\n",
       "      <td>1107955.0</td>\n",
       "    </tr>\n",
       "    <tr>\n",
       "      <th>rank</th>\n",
       "      <td>13669.0</td>\n",
       "      <td>6917.408004</td>\n",
       "      <td>4003.814986</td>\n",
       "      <td>0.0</td>\n",
       "      <td>3448.00</td>\n",
       "      <td>6932.00</td>\n",
       "      <td>10416.00</td>\n",
       "      <td>13838.0</td>\n",
       "    </tr>\n",
       "    <tr>\n",
       "      <th>popularity</th>\n",
       "      <td>15273.0</td>\n",
       "      <td>7741.991292</td>\n",
       "      <td>4482.323035</td>\n",
       "      <td>0.0</td>\n",
       "      <td>3855.00</td>\n",
       "      <td>7769.00</td>\n",
       "      <td>11627.00</td>\n",
       "      <td>15474.0</td>\n",
       "    </tr>\n",
       "  </tbody>\n",
       "</table>\n",
       "</div>"
      ],
      "text/plain": [
       "               count          mean           std  min      25%       50%  \\\n",
       "animeID      15278.0  19002.639416  13706.437012  1.0  5209.25  18308.00   \n",
       " score       14778.0      6.284508      1.073349  1.0     5.60      6.37   \n",
       " scored_by   15273.0  12107.014601  46929.422586  0.0    47.00    470.00   \n",
       " rank        13669.0   6917.408004   4003.814986  0.0  3448.00   6932.00   \n",
       " popularity  15273.0   7741.991292   4482.323035  0.0  3855.00   7769.00   \n",
       "\n",
       "                  75%        max  \n",
       "animeID      33025.75    39199.0  \n",
       " score           7.05       10.0  \n",
       " scored_by    3857.00  1107955.0  \n",
       " rank        10416.00    13838.0  \n",
       " popularity  11627.00    15474.0  "
      ]
     },
     "execution_count": 339,
     "metadata": {},
     "output_type": "execute_result"
    }
   ],
   "source": [
    "df_2019.describe().T"
   ]
  },
  {
   "cell_type": "code",
   "execution_count": 340,
   "id": "97fa5a1b",
   "metadata": {},
   "outputs": [
    {
     "name": "stdout",
     "output_type": "stream",
     "text": [
      "<class 'pandas.core.frame.DataFrame'>\n",
      "RangeIndex: 15278 entries, 0 to 15277\n",
      "Data columns (total 6 columns):\n",
      " #   Column       Non-Null Count  Dtype  \n",
      "---  ------       --------------  -----  \n",
      " 0   animeID      15278 non-null  int64  \n",
      " 1    name        15278 non-null  object \n",
      " 2    score       14778 non-null  float64\n",
      " 3    scored_by   15273 non-null  float64\n",
      " 4    rank        13669 non-null  float64\n",
      " 5    popularity  15273 non-null  float64\n",
      "dtypes: float64(4), int64(1), object(1)\n",
      "memory usage: 716.3+ KB\n"
     ]
    }
   ],
   "source": [
    "df_2019.info()"
   ]
  },
  {
   "cell_type": "code",
   "execution_count": null,
   "id": "ef4500d9",
   "metadata": {},
   "outputs": [
    {
     "data": {
      "text/plain": [
       "Index(['animeID', ' name', ' score', ' scored_by', ' rank', ' popularity'], dtype='object')"
      ]
     },
     "execution_count": 342,
     "metadata": {},
     "output_type": "execute_result"
    }
   ],
   "source": [
    "#Voy a limpiar los nombres de las columnas.\n",
    "df_2019.columns"
   ]
  },
  {
   "cell_type": "code",
   "execution_count": 343,
   "id": "95bc2af2",
   "metadata": {},
   "outputs": [
    {
     "data": {
      "text/plain": [
       "Index(['mal_id', 'titles', 'score', 'scored_by', 'rank', 'audience_rank'], dtype='object')"
      ]
     },
     "execution_count": 343,
     "metadata": {},
     "output_type": "execute_result"
    }
   ],
   "source": [
    "df_2019.columns = df_2019.columns.str.strip() \n",
    "df_2019.rename(columns={\n",
    "    'animeID': 'mal_id',\n",
    "    'name': 'titles',\n",
    "    'popularity': 'audience_rank'\n",
    "}, inplace=True)\n",
    "df_2019.columns"
   ]
  },
  {
   "cell_type": "code",
   "execution_count": 345,
   "id": "8b9c69bf",
   "metadata": {},
   "outputs": [],
   "source": [
    "#Solo quiero las que tenga un mal_id que coincida.\n",
    "df_2019 = df_2019[df_2019['mal_id'].isin(df_2024['mal_id'])]"
   ]
  },
  {
   "cell_type": "code",
   "execution_count": 346,
   "id": "bfd8f3be",
   "metadata": {},
   "outputs": [
    {
     "data": {
      "text/plain": [
       "(3569, 6)"
      ]
     },
     "execution_count": 346,
     "metadata": {},
     "output_type": "execute_result"
    }
   ],
   "source": [
    "df_2019.shape"
   ]
  },
  {
   "cell_type": "code",
   "execution_count": 354,
   "id": "8d8df084",
   "metadata": {},
   "outputs": [
    {
     "data": {
      "text/plain": [
       "mal_id           0\n",
       "titles           0\n",
       "score            0\n",
       "scored_by        0\n",
       "rank             0\n",
       "audience_rank    0\n",
       "dtype: int64"
      ]
     },
     "execution_count": 354,
     "metadata": {},
     "output_type": "execute_result"
    }
   ],
   "source": [
    "df_2019.isna().sum()"
   ]
  },
  {
   "cell_type": "code",
   "execution_count": 353,
   "id": "23f4eb97",
   "metadata": {},
   "outputs": [],
   "source": [
    "#No me interesan las rows que no tienen score ni rank\n",
    "df_2019 = df_2019.dropna(subset=['score'])\n",
    "df_2019 = df_2019.dropna(subset=['rank'])"
   ]
  },
  {
   "cell_type": "code",
   "execution_count": null,
   "id": "ac438668",
   "metadata": {},
   "outputs": [],
   "source": [
    "#Limpito!"
   ]
  },
  {
   "cell_type": "markdown",
   "id": "dc01ab10",
   "metadata": {},
   "source": [
    "### Insights"
   ]
  },
  {
   "cell_type": "code",
   "execution_count": null,
   "id": "4ce14d7b",
   "metadata": {},
   "outputs": [],
   "source": []
  }
 ],
 "metadata": {
  "kernelspec": {
   "display_name": "base",
   "language": "python",
   "name": "python3"
  },
  "language_info": {
   "codemirror_mode": {
    "name": "ipython",
    "version": 3
   },
   "file_extension": ".py",
   "mimetype": "text/x-python",
   "name": "python",
   "nbconvert_exporter": "python",
   "pygments_lexer": "ipython3",
   "version": "3.12.7"
  }
 },
 "nbformat": 4,
 "nbformat_minor": 5
}
