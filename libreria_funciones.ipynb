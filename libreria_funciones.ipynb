{
 "cells": [
  {
   "cell_type": "code",
   "execution_count": null,
   "id": "497627fb",
   "metadata": {},
   "outputs": [],
   "source": [
    "import pandas as pd\n",
    "import ast\n",
    "import numpy as np\n",
    "import matplotlib.pyplot as plt\n",
    "import os\n",
    "import pandas as pd\n",
    "import json\n",
    "import requests\n",
    "from bs4 import BeautifulSoup\n",
    "import time"
   ]
  },
  {
   "cell_type": "code",
   "execution_count": null,
   "id": "99cf0a8d",
   "metadata": {},
   "outputs": [],
   "source": [
    "def obtener_animes_top(limit=5550, step=50, delay=1):\n",
    "    animes = []\n",
    "\n",
    "    for offset in range(0, limit, step):\n",
    "        url = f\"https://myanimelist.net/topanime.php?limit={offset}\"\n",
    "        response = requests.get(url)\n",
    "        soup = BeautifulSoup(response.text, 'html.parser')\n",
    "\n",
    "        lista = soup.find_all('tr', class_='ranking-list')\n",
    "\n",
    "        for anime in lista:\n",
    "            title_tag = anime.find('h3', class_='anime_ranking_h3')\n",
    "            title = title_tag.text.strip() if title_tag else None\n",
    "\n",
    "            info_div = anime.find('div', class_='information di-ib mt4')\n",
    "            fecha_emision = None\n",
    "            if info_div:\n",
    "                lines = info_div.text.strip().split('\\n')\n",
    "                if len(lines) >= 2:\n",
    "                    fecha_emision = lines[1].strip()\n",
    "\n",
    "            animes.append({\n",
    "                'title': title,\n",
    "                'fecha_emision': fecha_emision\n",
    "            })\n",
    "\n",
    "        time.sleep(delay)  # Pausa para evitar sobrecargar el servidor\n",
    "\n",
    "    return pd.DataFrame(animes)"
   ]
  },
  {
   "cell_type": "code",
   "execution_count": null,
   "id": "5acfbf9c",
   "metadata": {},
   "outputs": [],
   "source": [
    "def get_popular_animes(limit=5550):\n",
    "    url = 'https://api.jikan.moe/v4/anime'\n",
    "    animes = []\n",
    "    page = 1\n",
    "    per_page = 25\n",
    "\n",
    "    while len(animes) < limit:\n",
    "        response = requests.get(url, params={'page': page, 'limit': per_page})\n",
    "        print(f\"Página {page}, Código: {response.status_code}\")\n",
    "\n",
    "        if response.status_code == 200:\n",
    "            data = response.json()\n",
    "            if not data.get('data'):\n",
    "                print(\"No hay más datos.\")\n",
    "                break\n",
    "\n",
    "            animes.extend(data['data'])\n",
    "            print(f\"Total recolectado: {len(animes)}\")\n",
    "            page += 1\n",
    "            time.sleep(1)  # 🛑 Espera obligatoria para evitar rate limit\n",
    "        elif response.status_code == 429:\n",
    "            print(\"⚠️ Rate limit alcanzado. Esperando 10 segundos...\")\n",
    "            time.sleep(10)  # Espera más larga para recuperarse\n",
    "        else:\n",
    "            print(f\"❌ Error en página {page}: {response.text}\")\n",
    "            break\n",
    "\n",
    "    return animes"
   ]
  },
  {
   "cell_type": "code",
   "execution_count": null,
   "id": "5223f45f",
   "metadata": {},
   "outputs": [],
   "source": [
    "def extraer_nombres_generos(entrada):\n",
    "    if pd.isna(entrada) or entrada == '[]':\n",
    "        return []\n",
    "    try:\n",
    "        lista_dicts = ast.literal_eval(entrada) \n",
    "        return [d['name'] for d in lista_dicts]\n",
    "    except:\n",
    "        return []"
   ]
  },
  {
   "cell_type": "code",
   "execution_count": null,
   "id": "9bbd780f",
   "metadata": {},
   "outputs": [],
   "source": [
    "def contar_generos(df, col1, col2):\n",
    "    generos = pd.concat([df[col1], df[col2]])\n",
    "    conteo = generos.value_counts().reset_index()\n",
    "    conteo.columns = ['Género', 'Frecuencia']\n",
    "    return conteo"
   ]
  },
  {
   "cell_type": "code",
   "execution_count": null,
   "id": "dda87c69",
   "metadata": {},
   "outputs": [],
   "source": [
    "def media_puntuaciones(df, col1, col2, score_col):\n",
    "    generos = pd.concat([\n",
    "        df[[col1, score_col]].rename(columns={col1: 'Género'}),\n",
    "        df[[col2, score_col]].rename(columns={col2: 'Género'})\n",
    "    ])\n",
    "    return generos.groupby('Género')[score_col].mean().reset_index()"
   ]
  },
  {
   "cell_type": "code",
   "execution_count": null,
   "id": "0b756de3",
   "metadata": {},
   "outputs": [],
   "source": [
    "def media_puntuaciones_origen(df, source_col, score_col):\n",
    "    origen = df[[source_col, score_col]].dropna()\n",
    "    origen['Origen'] = origen[source_col]\n",
    "    return origen.groupby('Origen')[score_col].mean().reset_index()"
   ]
  }
 ],
 "metadata": {
  "language_info": {
   "name": "python"
  }
 },
 "nbformat": 4,
 "nbformat_minor": 5
}
